{
  "nbformat": 4,
  "nbformat_minor": 0,
  "metadata": {
    "colab": {
      "name": "혼공ML 8챕터: 신경망(이미지 처리)",
      "provenance": [],
      "collapsed_sections": [],
      "authorship_tag": "ABX9TyNzpGJjUDfzAw1/2rr3FaHp",
      "include_colab_link": true
    },
    "kernelspec": {
      "name": "python3",
      "display_name": "Python 3"
    },
    "language_info": {
      "name": "python"
    },
    "accelerator": "GPU"
  },
  "cells": [
    {
      "cell_type": "markdown",
      "metadata": {
        "id": "view-in-github",
        "colab_type": "text"
      },
      "source": [
        "<a href=\"https://colab.research.google.com/github/Kang-Inprogress/-ML/blob/main/%ED%98%BC%EA%B3%B5ML_8%EC%B1%95%ED%84%B0_%EC%8B%A0%EA%B2%BD%EB%A7%9D(%EC%9D%B4%EB%AF%B8%EC%A7%80_%EC%B2%98%EB%A6%AC).ipynb\" target=\"_parent\"><img src=\"https://colab.research.google.com/assets/colab-badge.svg\" alt=\"Open In Colab\"/></a>"
      ]
    },
    {
      "cell_type": "markdown",
      "metadata": {
        "id": "uGibcJF4kaY0"
      },
      "source": [
        "# **Convolution Neural Network**\n",
        "\n",
        "CNN에서...\n",
        "\n",
        "뉴런 = 필터: 필터처럼 몇 개의 입력만을 가지고 출력을 하나 만들어낸다\n",
        "\n",
        "필터의 크기 또한 우리가 지정해야 할 하이퍼파라미터이다.\n",
        "\n",
        "합성곱 계산을 통해 얻은 출력을 특성 맵feature map 이라고 한다.\n",
        "\n",
        "합성곱 층에 있는 필터(뉴런)의 가중치가 모두 다르기 때문에 특성 맵을 필터 개수만큼 쌓은 차원의 출력이 된다. 특성 맵(2차원) x 필터 개수 => 3차원\n",
        "\n",
        "출력(특성 맵)이 2차원 형태를 유지하기 때문에:데이터의 공간 특성을 그대로 유지하며 학습하기 때문에 *이미지* 처리 분야에서 뛰어난 성능을 발휘한다. "
      ]
    },
    {
      "cell_type": "code",
      "metadata": {
        "id": "xeNcIOLmoU45"
      },
      "source": [
        "from tensorflow import keras\n",
        "\n",
        "keras.layers.conv2D(10, kernel_size(3,3), activation=\"relu\") # kernel_size 는 보통 (3,3) 이나 (5,5)가 권장된다."
      ],
      "execution_count": null,
      "outputs": []
    },
    {
      "cell_type": "markdown",
      "metadata": {
        "id": "1JUFbGBnosD8"
      },
      "source": [
        "# 패딩과 스트라이드\n",
        "\n",
        "(4,4) 크기의 입력을 (3,3)크기의 커널로 합성곱을 했을 때 똑같은 크기의 차원으로 출력으로 하려한다면, 입력을 (6,6)이라고 속이면 될 것이다. 원래 (4,4)만큼의 데이터를 놔두고 나머지를 0값으로 채워 (6,6)을 만드는 기법을 **패딩**이라고 한다.\n",
        "\n",
        "-> 0으로 채우는데 출력값에 영향을 주지 않는가? 간단히 말하자면 패딩의 역할은 순전히 커널의 합성곱 횟수를 늘려주는 것밖에는 없다. 실제계산에서 0이면 영향이 미치는 일이 없기 때문이다.\n",
        "\n",
        "+ 0으로 채우는 것을 세임 패딩(same padding). \n",
        "+ 순수한 입력 배열에서 합성곱을 하여 특성 맵을 만드는 경우를 밸리드 패딩valid padding이라고 한다.\n",
        "\n",
        "-> 세임 패딩을 하는 이유? 밸리드 패딩을 사용한다면 자연스레 중간에 있는 값들은 중앙에 있는 커널들과 비교했을 때 참여비율이 차이가 난다. 중요도가 떨어져보이게 되기 때문\n",
        "\n",
        "\n",
        "\n"
      ]
    },
    {
      "cell_type": "code",
      "metadata": {
        "id": "W0GwsK_oqo-q"
      },
      "source": [
        "from tensorflow import keras\n",
        "\n",
        "keras.layers.conv2D(10, kernel_size(3,3), activation=\"relu\", padding=\"same\") # padding을 부여 하지 않으면 자동으로 밸리드 패딩이 된다."
      ],
      "execution_count": null,
      "outputs": []
    },
    {
      "cell_type": "markdown",
      "metadata": {
        "id": "67u01Kddr4Og"
      },
      "source": [
        "합성곱을 할 때 커널은 한 칸씩 이동했는데 이 경우 **스트라이드**가 1이다. 스트라이드는 strides 속성으로 움직일 칸 수를 직접 조절할 수 있다."
      ]
    },
    {
      "cell_type": "markdown",
      "metadata": {
        "id": "P4quLO0OyA-J"
      },
      "source": [
        "# 풀링 Pooling\n",
        "합성곱 처럼 입력 위를 지나가면서 수행한다. 풀링에는 가중치가 없기 때문에 최대값이나 평균값을 계산해서 크기를 작게 설정한다.\n",
        "(n, n) 크기의 풀링에서...\n",
        "\n",
        "+ 최대 풀링: 해당 차원의 원소에서 가장 큰 값을 출력\n",
        "\n",
        "+ 평균 풀링: 해당 차원의 원소들의 평균 값을 출력\n",
        "\n",
        "이동 시 합성곱의 필터와 다른 점은 겹치지 않게 이동한다는 점이다: 풀링 크기 = 스트라이드"
      ]
    },
    {
      "cell_type": "code",
      "metadata": {
        "id": "EBxcQN-lyxAk"
      },
      "source": [
        "keras.layers.MaxPooling2D(2)\n",
        "\n",
        "keras.layers.MaxPooling2D(2, strides=2, padding=\"valid\")"
      ],
      "execution_count": null,
      "outputs": []
    },
    {
      "cell_type": "markdown",
      "metadata": {
        "id": "6i3cBg1yzY5e"
      },
      "source": [
        "**입력 차원이 3차원 이상이라면 필터 또한 그 차원과 해당 차원의 깊이가 같아야한다. 보통 합성곱 층은 3차원을 기대**\n",
        "\n",
        "필터의 차원이 몇 개이던지 출력은 항상 하나의 값이다.\n",
        "3차원 입력에서, 필터하나는 1층의 특성 맵을 출력하니까 필터가 n개면 특성 맵의 층도 n개로 이루어 질 것이다."
      ]
    },
    {
      "cell_type": "markdown",
      "metadata": {
        "id": "R9I7GqLg7PJ-"
      },
      "source": [
        "# 실전: 합성곱 신경망을 사용한 이미지 분류"
      ]
    },
    {
      "cell_type": "markdown",
      "metadata": {
        "id": "NYR4Q0YX7TAj"
      },
      "source": [
        "CNN에서 입력 이미지는 항상 깊이(채널)이 있어야한다. 그러므로 최소 1의 깊이(채널)차원을 추가해 준다.\n",
        "\n",
        "MNIST 데이터셋"
      ]
    },
    {
      "cell_type": "code",
      "metadata": {
        "id": "bZouRSF173j2"
      },
      "source": [
        "from tensorflow import keras\n",
        "from sklearn.model_selection import train_test_split\n",
        "\n",
        "(train_input, train_target), (test_input, test_target) = keras.datasets.fashion_mnist.load_data()\n",
        "train_scaled = train_input.reshape(-1, 28, 28, 1)/ 255.0 # reshape(-1, 28, 28, 1)로 깊이가 1인 차원을 추가했다\n",
        "train_scaled, val_scaled, train_target, val_target = train_test_split(train_scaled, train_target, test_size=0.2, random_state=42)"
      ],
      "execution_count": 15,
      "outputs": []
    },
    {
      "cell_type": "code",
      "metadata": {
        "id": "YWbpzGbZ8txm"
      },
      "source": [
        "model = keras.Sequential()\n",
        "model.add(keras.layers.Conv2D(32, kernel_size=3, activation=\"relu\", padding=\"same\", input_shape=(28, 28, 1))) # 필터(뉴런) 32개, 커널 사이즈(3,3), 활성화함수=\"relu\", 세임패딩\n",
        "model.add(keras.layers.MaxPooling2D(2)) # (2, 2)풀링으로 절반으로 줄어듦\n",
        "model.add(keras.layers.Conv2D(32, kernel_size=3, activation=\"relu\", padding=\"same\"))\n",
        "model.add(keras.layers.MaxPooling2D(2))\n",
        "\n",
        "model.add(keras.layers.Flatten())\n",
        "model.add(keras.layers.Dense(100, activation=\"relu\"))\n",
        "model.add(keras.layers.Dropout(0.4))\n",
        "model.add(keras.layers.Dense(10, activation=\"softmax\"))"
      ],
      "execution_count": 16,
      "outputs": []
    },
    {
      "cell_type": "code",
      "metadata": {
        "colab": {
          "base_uri": "https://localhost:8080/"
        },
        "id": "e5emPFnZ-K-z",
        "outputId": "95a7c75e-84e8-434f-beee-5b4abd0dd51f"
      },
      "source": [
        "model.summary()"
      ],
      "execution_count": 17,
      "outputs": [
        {
          "output_type": "stream",
          "text": [
            "Model: \"sequential_1\"\n",
            "_________________________________________________________________\n",
            "Layer (type)                 Output Shape              Param #   \n",
            "=================================================================\n",
            "conv2d_10 (Conv2D)           (None, 28, 28, 32)        320       \n",
            "_________________________________________________________________\n",
            "max_pooling2d_7 (MaxPooling2 (None, 14, 14, 32)        0         \n",
            "_________________________________________________________________\n",
            "conv2d_11 (Conv2D)           (None, 14, 14, 32)        9248      \n",
            "_________________________________________________________________\n",
            "max_pooling2d_8 (MaxPooling2 (None, 7, 7, 32)          0         \n",
            "_________________________________________________________________\n",
            "flatten_3 (Flatten)          (None, 1568)              0         \n",
            "_________________________________________________________________\n",
            "dense_15 (Dense)             (None, 100)               156900    \n",
            "_________________________________________________________________\n",
            "dropout_1 (Dropout)          (None, 100)               0         \n",
            "_________________________________________________________________\n",
            "dense_16 (Dense)             (None, 10)                1010      \n",
            "=================================================================\n",
            "Total params: 167,478\n",
            "Trainable params: 167,478\n",
            "Non-trainable params: 0\n",
            "_________________________________________________________________\n"
          ],
          "name": "stdout"
        }
      ]
    },
    {
      "cell_type": "code",
      "metadata": {
        "id": "fjon-BwW-lpg"
      },
      "source": [
        "keras.utils.plot_model(model, show_shapes=True, to_file=\"cnn-architecture.png\", dpi=300)"
      ],
      "execution_count": null,
      "outputs": []
    },
    {
      "cell_type": "code",
      "metadata": {
        "colab": {
          "base_uri": "https://localhost:8080/"
        },
        "id": "kGaU_ODU_kpI",
        "outputId": "c0716800-111e-41a6-bf3f-94c989722044"
      },
      "source": [
        "model.compile(optimizer=\"adam\", loss=\"sparse_categorical_crossentropy\", metrics=\"accuracy\")\n",
        "checkpoint_cb = keras.callbacks.ModelCheckpoint(\"best-cnn-model.h5\")\n",
        "early_stopping_cb = keras.callbacks.EarlyStopping(patience=2, restore_best_weights=True)\n",
        "history = model.fit(train_scaled, train_target, epochs=20, validation_data=(val_scaled, val_target), callbacks=[checkpoint_cb, early_stopping_cb])"
      ],
      "execution_count": 18,
      "outputs": [
        {
          "output_type": "stream",
          "text": [
            "Epoch 1/20\n",
            "1500/1500 [==============================] - 36s 3ms/step - loss: 0.5407 - accuracy: 0.8051 - val_loss: 0.3416 - val_accuracy: 0.8759\n",
            "Epoch 2/20\n",
            "1500/1500 [==============================] - 5s 3ms/step - loss: 0.3601 - accuracy: 0.8697 - val_loss: 0.2967 - val_accuracy: 0.8891\n",
            "Epoch 3/20\n",
            "1500/1500 [==============================] - 5s 3ms/step - loss: 0.3104 - accuracy: 0.8869 - val_loss: 0.2659 - val_accuracy: 0.9004\n",
            "Epoch 4/20\n",
            "1500/1500 [==============================] - 5s 3ms/step - loss: 0.2786 - accuracy: 0.8982 - val_loss: 0.2610 - val_accuracy: 0.9025\n",
            "Epoch 5/20\n",
            "1500/1500 [==============================] - 5s 3ms/step - loss: 0.2561 - accuracy: 0.9057 - val_loss: 0.2489 - val_accuracy: 0.9075\n",
            "Epoch 6/20\n",
            "1500/1500 [==============================] - 5s 3ms/step - loss: 0.2407 - accuracy: 0.9116 - val_loss: 0.2282 - val_accuracy: 0.9149\n",
            "Epoch 7/20\n",
            "1500/1500 [==============================] - 5s 3ms/step - loss: 0.2220 - accuracy: 0.9172 - val_loss: 0.2384 - val_accuracy: 0.9133\n",
            "Epoch 8/20\n",
            "1500/1500 [==============================] - 5s 3ms/step - loss: 0.2102 - accuracy: 0.9216 - val_loss: 0.2372 - val_accuracy: 0.9154\n"
          ],
          "name": "stdout"
        }
      ]
    },
    {
      "cell_type": "code",
      "metadata": {
        "colab": {
          "base_uri": "https://localhost:8080/"
        },
        "id": "2dPDpskvuhQq",
        "outputId": "3fb34258-46dd-4176-a8c9-8deed6b05997"
      },
      "source": [
        "model.evaluate(val_scaled, val_target)"
      ],
      "execution_count": 8,
      "outputs": [
        {
          "output_type": "stream",
          "text": [
            "375/375 [==============================] - 1s 2ms/step - loss: 0.2325 - accuracy: 0.9190\n"
          ],
          "name": "stdout"
        },
        {
          "output_type": "execute_result",
          "data": {
            "text/plain": [
              "[0.23247025907039642, 0.9190000295639038]"
            ]
          },
          "metadata": {
            "tags": []
          },
          "execution_count": 8
        }
      ]
    },
    {
      "cell_type": "code",
      "metadata": {
        "colab": {
          "base_uri": "https://localhost:8080/"
        },
        "id": "mqznaW4WuypW",
        "outputId": "ed38450f-7174-4215-b9e5-81bccee45d2d"
      },
      "source": [
        "preds = model.predict(val_scaled[0:1]) # (1, 28, 28, 1) 크기의 데이터 전달\n",
        "print(preds)  "
      ],
      "execution_count": 9,
      "outputs": [
        {
          "output_type": "stream",
          "text": [
            "[[2.0977413e-20 1.4621292e-31 7.2727220e-23 2.5093261e-21 4.7217259e-21\n",
            "  9.6351951e-23 7.0386224e-22 5.2295823e-22 1.0000000e+00 3.5005407e-24]]\n"
          ],
          "name": "stdout"
        }
      ]
    },
    {
      "cell_type": "markdown",
      "metadata": {
        "id": "JMcLSia3ySEX"
      },
      "source": [
        "# CNN 시각화\n"
      ]
    },
    {
      "cell_type": "code",
      "metadata": {
        "id": "rkWmRhK6ypZ7"
      },
      "source": [
        "from tensorflow import keras\n",
        "\n",
        "model = keras.models.load_model(\"best-cnn-model.h5\")\n",
        "# model.layers"
      ],
      "execution_count": 5,
      "outputs": []
    },
    {
      "cell_type": "code",
      "metadata": {
        "colab": {
          "base_uri": "https://localhost:8080/"
        },
        "id": "v6-QFxcfyvXH",
        "outputId": "ef6b6949-8e26-4843-8ec8-267fcee6e188"
      },
      "source": [
        "conv = model.layers[0]\n",
        "print(\"가중치의 크기: \", conv.weights[0].shape, \"| 절편의 크기: \", conv.weights[1].shape) # weight는 파이썬 리스트. 첫 번째 원소: 가중치와 두 번째 원소: 절편의 크기를 알 수 있다.\n",
        "conv_weights = conv.weights[0].numpy()\n",
        "print(\"가중치의 평균값:\", conv_weights.mean(), \"| 가중치의 표준편차: \", conv_weights.std())"
      ],
      "execution_count": 9,
      "outputs": [
        {
          "output_type": "stream",
          "text": [
            "가중치의 크기:  (3, 3, 1, 32) | 절편의 크기:  (32,)\n",
            "가중치의 평균값: -0.020119244 | 가중치의 표준편차:  0.27198008\n"
          ],
          "name": "stdout"
        }
      ]
    },
    {
      "cell_type": "markdown",
      "metadata": {
        "id": "njl3szxR_aF2"
      },
      "source": [
        "**시각화해서 훈련된 모델의 가중치와 그렇지 않은 모델의 가중치를 비교하기**"
      ]
    },
    {
      "cell_type": "code",
      "metadata": {
        "colab": {
          "base_uri": "https://localhost:8080/",
          "height": 134
        },
        "id": "GHDIvhM_-pW8",
        "outputId": "5f788381-3dea-4dd0-cea8-a9377da6aa20"
      },
      "source": [
        "# 눈으로 가중치 확인하기\n",
        "\n",
        "import matplotlib.pyplot as plt\n",
        "\n",
        "fig, axs = plt.subplots(2, 16, figsize=(15,2))\n",
        "for i in range(2):\n",
        "  for j in range(16):\n",
        "    axs[i, j].imshow(conv_weights[:, :, 0, i*16 + j], vmin=-0.5, vmax=0.5) # conv_weights의 [:, :, :0, 0]부터 [:, :, :0, 31]까지의 커널 출력\n",
        "    axs[i, j].axis(\"off\")\n",
        "\n",
        "plt.show()\n",
        "\n",
        "# 결과값에서 밝은 부분이 가중치가 높은 것이다."
      ],
      "execution_count": 10,
      "outputs": [
        {
          "output_type": "display_data",
          "data": {
            "image/png": "[encoded data removed]",
            "text/plain": [
              "<Figure size 1080x144 with 32 Axes>"
            ]
          },
          "metadata": {
            "tags": [],
            "needs_background": "light"
          }
        }
      ]
    },
    {
      "cell_type": "code",
      "metadata": {
        "colab": {
          "base_uri": "https://localhost:8080/"
        },
        "id": "fVjmeOa-_heo",
        "outputId": "1fb4dab9-3dbc-4830-82c2-6c198896f44f"
      },
      "source": [
        "# 입력이 같은 모델 생성(훈련되지않음)\n",
        "no_training_model = keras.Sequential()\n",
        "no_training_model.add(keras.layers.Conv2D(32, kernel_size=3, activation=\"relu\", padding=\"same\", input_shape=(28, 28, 1)))\n",
        "# no_training_conv = no_training_model.layers[0]\n",
        "# print(no_training_conv.weights[0].shape)\n",
        "no_training_weights = no_training_conv.weights[0].numpy()\n",
        "print(no_training_weights.mean(), no_training_weights.std())"
      ],
      "execution_count": 12,
      "outputs": [
        {
          "output_type": "stream",
          "text": [
            "0.0009956631 0.08363045\n"
          ],
          "name": "stdout"
        }
      ]
    },
    {
      "cell_type": "code",
      "metadata": {
        "colab": {
          "base_uri": "https://localhost:8080/",
          "height": 134
        },
        "id": "UHzvNlqOBkSG",
        "outputId": "b881ca2a-b92c-43cd-c21f-686e8ed9ce02"
      },
      "source": [
        "fig, axs = plt.subplots(2, 16, figsize=(15,2))\n",
        "for i in range(2):\n",
        "  for j in range(16):\n",
        "    axs[i, j].imshow(no_training_weights[:, :, 0, i*16 + j], vmin=-0.5, vmax=0.5)\n",
        "    axs[i, j].axis(\"off\")\n",
        "\n",
        "plt.show()\n"
      ],
      "execution_count": 13,
      "outputs": [
        {
          "output_type": "display_data",
          "data": {
            "image/png": "[encoded data removed]",
            "text/plain": [
              "<Figure size 1080x144 with 32 Axes>"
            ]
          },
          "metadata": {
            "tags": [],
            "needs_background": "light"
          }
        }
      ]
    },
    {
      "cell_type": "markdown",
      "metadata": {
        "id": "32WsV4-dCIFH"
      },
      "source": [
        "# 함수형 API로 다시 실습해보기"
      ]
    },
    {
      "cell_type": "markdown",
      "metadata": {
        "id": "A_7qOaGeFZSW"
      },
      "source": [
        "**밀집층을 재현해보기**"
      ]
    },
    {
      "cell_type": "code",
      "metadata": {
        "id": "4hIieXqiCxXy"
      },
      "source": [
        "from tensorflow import keras\n",
        "\n",
        "dense1 = keras.layers.Dense(100, activation=\"sigmoid\")\n",
        "dense2 = keras.layers.Dense(100, activation=\"sigmoid\")\n",
        "dense3 = keras.layers.Dense(10, activation=\"softmax\")\n",
        "\n",
        "inputs = keras.Input(shape=(784, ))\n",
        "\n",
        "# 변수 = 층(층의 입력)\n",
        "hidden = dense1(inputs)\n",
        "hidden2 = dense2(hidden)\n",
        "outputs = dense3(hidden2)\n",
        "model = keras.Model(inputs, outputs)"
      ],
      "execution_count": 2,
      "outputs": []
    },
    {
      "cell_type": "markdown",
      "metadata": {
        "id": "8Am2AO3oGEzP"
      },
      "source": [
        "model 객체의 입력과 Conv2D의 출력을 알 수 있다면, 이 둘을 연결하여 새로운 모델을 만드는 것도 가능하다!\n",
        "\n",
        "InputLayer - Conv2D - Maxpooling2D - Conv2D - Maxpooling2D - Flatten - Dense - Dropout - Dense 함수형 API로 만들기"
      ]
    },
    {
      "cell_type": "markdown",
      "metadata": {
        "id": "4_8HNwQMFc1r"
      },
      "source": [
        "**특성 맵 시각화**"
      ]
    },
    {
      "cell_type": "code",
      "metadata": {
        "colab": {
          "base_uri": "https://localhost:8080/",
          "height": 265
        },
        "id": "yrwjlKkJFfed",
        "outputId": "42f4cbdd-dce5-4f34-fad9-1701aa9fb70e"
      },
      "source": [
        "import matplotlib.pyplot as plt\n",
        "\n",
        "(train_input, train_target), (test_input, test_target) = keras.datasets.fashion_mnist.load_data()\n",
        "plt.imshow(train_input[0], cmap=\"gray_r\")\n",
        "plt.show()"
      ],
      "execution_count": 3,
      "outputs": [
        {
          "output_type": "display_data",
          "data": {
            "image/png": "[encoded data removed]",
            "text/plain": [
              "<Figure size 432x288 with 1 Axes>"
            ]
          },
          "metadata": {
            "tags": [],
            "needs_background": "light"
          }
        }
      ]
    },
    {
      "cell_type": "code",
      "metadata": {
        "colab": {
          "base_uri": "https://localhost:8080/",
          "height": 394
        },
        "id": "VsdS7V45zVQk",
        "outputId": "f2b4a3d9-becd-497d-e05c-50ee224d709e"
      },
      "source": [
        "inputs = keras.Input(shape=(None, 28, 28))\n",
        "\n",
        "conv2d = keras.layers.Conv2D(32, kernel_size=3, activation=\"relu\", padding=\"same\", input_shape=(28, 28, 1))\n",
        "maxpooling2d = keras.layers.MaxPooling2D(2)\n",
        "dense1 = keras.layers.Dense(100, activation=\"relu\")\n",
        "dense2 = keras.layers.Dense(10, activation=\"softmax\")\n",
        "\n",
        "hiddenConv1 = conv2d(inputs)\n",
        "hiddenPooling1 = maxpooling2d(hiddenConv1)\n",
        "hiddenConv2 = keras.layers.Conv2D(32, kernel_size=3, activation=\"relu\", padding=\"same\")(hiddenPooling1)\n",
        "hiddenPooling2 = maxpooling2d(hiddenConv2)\n",
        "hiddenFlatten = keras.layers.Flatten()(hiddenPooling2)\n",
        "hiddenDense = dense1(hiddenFlatten)\n",
        "outputs = dense2(hiddenDense)\n",
        "\n",
        "model = keras.Model(inputs, outputs)\n",
        "\n",
        "\n"
      ],
      "execution_count": 12,
      "outputs": [
        {
          "output_type": "error",
          "ename": "ValueError",
          "evalue": "ignored",
          "traceback": [
            "\u001b[0;31m---------------------------------------------------------------------------\u001b[0m",
            "\u001b[0;31mValueError\u001b[0m                                Traceback (most recent call last)",
            "\u001b[0;32m<ipython-input-12-e92667b825fa>\u001b[0m in \u001b[0;36m<module>\u001b[0;34m()\u001b[0m\n\u001b[1;32m     11\u001b[0m \u001b[0mhiddenPooling2\u001b[0m \u001b[0;34m=\u001b[0m \u001b[0mmaxpooling2d\u001b[0m\u001b[0;34m(\u001b[0m\u001b[0mhiddenConv2\u001b[0m\u001b[0;34m)\u001b[0m\u001b[0;34m\u001b[0m\u001b[0;34m\u001b[0m\u001b[0m\n\u001b[1;32m     12\u001b[0m \u001b[0mhiddenFlatten\u001b[0m \u001b[0;34m=\u001b[0m \u001b[0mkeras\u001b[0m\u001b[0;34m.\u001b[0m\u001b[0mlayers\u001b[0m\u001b[0;34m.\u001b[0m\u001b[0mFlatten\u001b[0m\u001b[0;34m(\u001b[0m\u001b[0;34m)\u001b[0m\u001b[0;34m(\u001b[0m\u001b[0mhiddenPooling2\u001b[0m\u001b[0;34m)\u001b[0m\u001b[0;34m\u001b[0m\u001b[0;34m\u001b[0m\u001b[0m\n\u001b[0;32m---> 13\u001b[0;31m \u001b[0mhiddenDense\u001b[0m \u001b[0;34m=\u001b[0m \u001b[0mdense1\u001b[0m\u001b[0;34m(\u001b[0m\u001b[0mhiddenFlatten\u001b[0m\u001b[0;34m)\u001b[0m\u001b[0;34m\u001b[0m\u001b[0;34m\u001b[0m\u001b[0m\n\u001b[0m\u001b[1;32m     14\u001b[0m \u001b[0moutputs\u001b[0m \u001b[0;34m=\u001b[0m \u001b[0mdense2\u001b[0m\u001b[0;34m(\u001b[0m\u001b[0mhiddenDense\u001b[0m\u001b[0;34m)\u001b[0m\u001b[0;34m\u001b[0m\u001b[0;34m\u001b[0m\u001b[0m\n\u001b[1;32m     15\u001b[0m \u001b[0;34m\u001b[0m\u001b[0m\n",
            "\u001b[0;32m/usr/local/lib/python3.7/dist-packages/tensorflow/python/keras/engine/base_layer.py\u001b[0m in \u001b[0;36m__call__\u001b[0;34m(self, *args, **kwargs)\u001b[0m\n\u001b[1;32m    968\u001b[0m     \u001b[0;32mif\u001b[0m \u001b[0m_in_functional_construction_mode\u001b[0m\u001b[0;34m(\u001b[0m\u001b[0mself\u001b[0m\u001b[0;34m,\u001b[0m \u001b[0minputs\u001b[0m\u001b[0;34m,\u001b[0m \u001b[0margs\u001b[0m\u001b[0;34m,\u001b[0m \u001b[0mkwargs\u001b[0m\u001b[0;34m,\u001b[0m \u001b[0minput_list\u001b[0m\u001b[0;34m)\u001b[0m\u001b[0;34m:\u001b[0m\u001b[0;34m\u001b[0m\u001b[0;34m\u001b[0m\u001b[0m\n\u001b[1;32m    969\u001b[0m       return self._functional_construction_call(inputs, args, kwargs,\n\u001b[0;32m--> 970\u001b[0;31m                                                 input_list)\n\u001b[0m\u001b[1;32m    971\u001b[0m \u001b[0;34m\u001b[0m\u001b[0m\n\u001b[1;32m    972\u001b[0m     \u001b[0;31m# Maintains info about the `Layer.call` stack.\u001b[0m\u001b[0;34m\u001b[0m\u001b[0;34m\u001b[0m\u001b[0;34m\u001b[0m\u001b[0m\n",
            "\u001b[0;32m/usr/local/lib/python3.7/dist-packages/tensorflow/python/keras/engine/base_layer.py\u001b[0m in \u001b[0;36m_functional_construction_call\u001b[0;34m(self, inputs, args, kwargs, input_list)\u001b[0m\n\u001b[1;32m   1106\u001b[0m       \u001b[0;31m# Check input assumptions set after layer building, e.g. input shape.\u001b[0m\u001b[0;34m\u001b[0m\u001b[0;34m\u001b[0m\u001b[0;34m\u001b[0m\u001b[0m\n\u001b[1;32m   1107\u001b[0m       outputs = self._keras_tensor_symbolic_call(\n\u001b[0;32m-> 1108\u001b[0;31m           inputs, input_masks, args, kwargs)\n\u001b[0m\u001b[1;32m   1109\u001b[0m \u001b[0;34m\u001b[0m\u001b[0m\n\u001b[1;32m   1110\u001b[0m       \u001b[0;32mif\u001b[0m \u001b[0moutputs\u001b[0m \u001b[0;32mis\u001b[0m \u001b[0;32mNone\u001b[0m\u001b[0;34m:\u001b[0m\u001b[0;34m\u001b[0m\u001b[0;34m\u001b[0m\u001b[0m\n",
            "\u001b[0;32m/usr/local/lib/python3.7/dist-packages/tensorflow/python/keras/engine/base_layer.py\u001b[0m in \u001b[0;36m_keras_tensor_symbolic_call\u001b[0;34m(self, inputs, input_masks, args, kwargs)\u001b[0m\n\u001b[1;32m    838\u001b[0m       \u001b[0;32mreturn\u001b[0m \u001b[0mnest\u001b[0m\u001b[0;34m.\u001b[0m\u001b[0mmap_structure\u001b[0m\u001b[0;34m(\u001b[0m\u001b[0mkeras_tensor\u001b[0m\u001b[0;34m.\u001b[0m\u001b[0mKerasTensor\u001b[0m\u001b[0;34m,\u001b[0m \u001b[0moutput_signature\u001b[0m\u001b[0;34m)\u001b[0m\u001b[0;34m\u001b[0m\u001b[0;34m\u001b[0m\u001b[0m\n\u001b[1;32m    839\u001b[0m     \u001b[0;32melse\u001b[0m\u001b[0;34m:\u001b[0m\u001b[0;34m\u001b[0m\u001b[0;34m\u001b[0m\u001b[0m\n\u001b[0;32m--> 840\u001b[0;31m       \u001b[0;32mreturn\u001b[0m \u001b[0mself\u001b[0m\u001b[0;34m.\u001b[0m\u001b[0m_infer_output_signature\u001b[0m\u001b[0;34m(\u001b[0m\u001b[0minputs\u001b[0m\u001b[0;34m,\u001b[0m \u001b[0margs\u001b[0m\u001b[0;34m,\u001b[0m \u001b[0mkwargs\u001b[0m\u001b[0;34m,\u001b[0m \u001b[0minput_masks\u001b[0m\u001b[0;34m)\u001b[0m\u001b[0;34m\u001b[0m\u001b[0;34m\u001b[0m\u001b[0m\n\u001b[0m\u001b[1;32m    841\u001b[0m \u001b[0;34m\u001b[0m\u001b[0m\n\u001b[1;32m    842\u001b[0m   \u001b[0;32mdef\u001b[0m \u001b[0m_infer_output_signature\u001b[0m\u001b[0;34m(\u001b[0m\u001b[0mself\u001b[0m\u001b[0;34m,\u001b[0m \u001b[0minputs\u001b[0m\u001b[0;34m,\u001b[0m \u001b[0margs\u001b[0m\u001b[0;34m,\u001b[0m \u001b[0mkwargs\u001b[0m\u001b[0;34m,\u001b[0m \u001b[0minput_masks\u001b[0m\u001b[0;34m)\u001b[0m\u001b[0;34m:\u001b[0m\u001b[0;34m\u001b[0m\u001b[0;34m\u001b[0m\u001b[0m\n",
            "\u001b[0;32m/usr/local/lib/python3.7/dist-packages/tensorflow/python/keras/engine/base_layer.py\u001b[0m in \u001b[0;36m_infer_output_signature\u001b[0;34m(self, inputs, args, kwargs, input_masks)\u001b[0m\n\u001b[1;32m    876\u001b[0m           \u001b[0;31m# overridden).\u001b[0m\u001b[0;34m\u001b[0m\u001b[0;34m\u001b[0m\u001b[0;34m\u001b[0m\u001b[0m\n\u001b[1;32m    877\u001b[0m           \u001b[0;31m# TODO(kaftan): do we maybe_build here, or have we already done it?\u001b[0m\u001b[0;34m\u001b[0m\u001b[0;34m\u001b[0m\u001b[0;34m\u001b[0m\u001b[0m\n\u001b[0;32m--> 878\u001b[0;31m           \u001b[0mself\u001b[0m\u001b[0;34m.\u001b[0m\u001b[0m_maybe_build\u001b[0m\u001b[0;34m(\u001b[0m\u001b[0minputs\u001b[0m\u001b[0;34m)\u001b[0m\u001b[0;34m\u001b[0m\u001b[0;34m\u001b[0m\u001b[0m\n\u001b[0m\u001b[1;32m    879\u001b[0m           \u001b[0minputs\u001b[0m \u001b[0;34m=\u001b[0m \u001b[0mself\u001b[0m\u001b[0;34m.\u001b[0m\u001b[0m_maybe_cast_inputs\u001b[0m\u001b[0;34m(\u001b[0m\u001b[0minputs\u001b[0m\u001b[0;34m)\u001b[0m\u001b[0;34m\u001b[0m\u001b[0;34m\u001b[0m\u001b[0m\n\u001b[1;32m    880\u001b[0m           \u001b[0moutputs\u001b[0m \u001b[0;34m=\u001b[0m \u001b[0mcall_fn\u001b[0m\u001b[0;34m(\u001b[0m\u001b[0minputs\u001b[0m\u001b[0;34m,\u001b[0m \u001b[0;34m*\u001b[0m\u001b[0margs\u001b[0m\u001b[0;34m,\u001b[0m \u001b[0;34m**\u001b[0m\u001b[0mkwargs\u001b[0m\u001b[0;34m)\u001b[0m\u001b[0;34m\u001b[0m\u001b[0;34m\u001b[0m\u001b[0m\n",
            "\u001b[0;32m/usr/local/lib/python3.7/dist-packages/tensorflow/python/keras/engine/base_layer.py\u001b[0m in \u001b[0;36m_maybe_build\u001b[0;34m(self, inputs)\u001b[0m\n\u001b[1;32m   2623\u001b[0m         \u001b[0;31m# operations.\u001b[0m\u001b[0;34m\u001b[0m\u001b[0;34m\u001b[0m\u001b[0;34m\u001b[0m\u001b[0m\n\u001b[1;32m   2624\u001b[0m         \u001b[0;32mwith\u001b[0m \u001b[0mtf_utils\u001b[0m\u001b[0;34m.\u001b[0m\u001b[0mmaybe_init_scope\u001b[0m\u001b[0;34m(\u001b[0m\u001b[0mself\u001b[0m\u001b[0;34m)\u001b[0m\u001b[0;34m:\u001b[0m\u001b[0;34m\u001b[0m\u001b[0;34m\u001b[0m\u001b[0m\n\u001b[0;32m-> 2625\u001b[0;31m           \u001b[0mself\u001b[0m\u001b[0;34m.\u001b[0m\u001b[0mbuild\u001b[0m\u001b[0;34m(\u001b[0m\u001b[0minput_shapes\u001b[0m\u001b[0;34m)\u001b[0m  \u001b[0;31m# pylint:disable=not-callable\u001b[0m\u001b[0;34m\u001b[0m\u001b[0;34m\u001b[0m\u001b[0m\n\u001b[0m\u001b[1;32m   2626\u001b[0m       \u001b[0;31m# We must set also ensure that the layer is marked as built, and the build\u001b[0m\u001b[0;34m\u001b[0m\u001b[0;34m\u001b[0m\u001b[0;34m\u001b[0m\u001b[0m\n\u001b[1;32m   2627\u001b[0m       \u001b[0;31m# shape is stored since user defined build functions may not be calling\u001b[0m\u001b[0;34m\u001b[0m\u001b[0;34m\u001b[0m\u001b[0;34m\u001b[0m\u001b[0m\n",
            "\u001b[0;32m/usr/local/lib/python3.7/dist-packages/tensorflow/python/keras/layers/core.py\u001b[0m in \u001b[0;36mbuild\u001b[0;34m(self, input_shape)\u001b[0m\n\u001b[1;32m   1186\u001b[0m     \u001b[0mlast_dim\u001b[0m \u001b[0;34m=\u001b[0m \u001b[0mtensor_shape\u001b[0m\u001b[0;34m.\u001b[0m\u001b[0mdimension_value\u001b[0m\u001b[0;34m(\u001b[0m\u001b[0minput_shape\u001b[0m\u001b[0;34m[\u001b[0m\u001b[0;34m-\u001b[0m\u001b[0;36m1\u001b[0m\u001b[0;34m]\u001b[0m\u001b[0;34m)\u001b[0m\u001b[0;34m\u001b[0m\u001b[0;34m\u001b[0m\u001b[0m\n\u001b[1;32m   1187\u001b[0m     \u001b[0;32mif\u001b[0m \u001b[0mlast_dim\u001b[0m \u001b[0;32mis\u001b[0m \u001b[0;32mNone\u001b[0m\u001b[0;34m:\u001b[0m\u001b[0;34m\u001b[0m\u001b[0;34m\u001b[0m\u001b[0m\n\u001b[0;32m-> 1188\u001b[0;31m       raise ValueError('The last dimension of the inputs to `Dense` '\n\u001b[0m\u001b[1;32m   1189\u001b[0m                        'should be defined. Found `None`.')\n\u001b[1;32m   1190\u001b[0m     \u001b[0mself\u001b[0m\u001b[0;34m.\u001b[0m\u001b[0minput_spec\u001b[0m \u001b[0;34m=\u001b[0m \u001b[0mInputSpec\u001b[0m\u001b[0;34m(\u001b[0m\u001b[0mmin_ndim\u001b[0m\u001b[0;34m=\u001b[0m\u001b[0;36m2\u001b[0m\u001b[0;34m,\u001b[0m \u001b[0maxes\u001b[0m\u001b[0;34m=\u001b[0m\u001b[0;34m{\u001b[0m\u001b[0;34m-\u001b[0m\u001b[0;36m1\u001b[0m\u001b[0;34m:\u001b[0m \u001b[0mlast_dim\u001b[0m\u001b[0;34m}\u001b[0m\u001b[0;34m)\u001b[0m\u001b[0;34m\u001b[0m\u001b[0;34m\u001b[0m\u001b[0m\n",
            "\u001b[0;31mValueError\u001b[0m: The last dimension of the inputs to `Dense` should be defined. Found `None`."
          ]
        }
      ]
    },
    {
      "cell_type": "code",
      "metadata": {
        "colab": {
          "base_uri": "https://localhost:8080/",
          "height": 478
        },
        "id": "9gtAHpGWyCrm",
        "outputId": "be3ca5dc-3b7a-432c-9d94-92932a9137e6"
      },
      "source": [
        "# model = keras.models.load_model(\"best-cnn-model.h5\")\n",
        "\n",
        "conv_acti = keras.Model(model.input, model.layers[0].output) # model.layers[0] = Conv2D. 첫번째 합성곱\n",
        "\n",
        "inputs = train_input[0:1].reshape(-1, 28, 28, 1)/255.0\n",
        "feature_maps = conv_acti.predict(inputs)\n",
        "print(feature_maps.shape)\n",
        "\n",
        "fig, axs = plt.subplots(4, 8, figsize=(15, 8))\n",
        "for i in range(4):\n",
        "  for j in range(8):\n",
        "    axs[i, j].imshow(feature_maps[0, :, :, i*8 + j])\n",
        "    axs[i, j].axis(\"off\")\n",
        "plt.show()"
      ],
      "execution_count": 21,
      "outputs": [
        {
          "output_type": "stream",
          "text": [
            "(1, 28, 28, 32)\n"
          ],
          "name": "stdout"
        },
        {
          "output_type": "display_data",
          "data": {
            "image/png": "[encoded data removed]",
            "text/plain": [
              "<Figure size 1080x576 with 32 Axes>"
            ]
          },
          "metadata": {
            "tags": [],
            "needs_background": "light"
          }
        }
      ]
    },
    {
      "cell_type": "code",
      "metadata": {
        "colab": {
          "base_uri": "https://localhost:8080/",
          "height": 516
        },
        "id": "UZJIrPCe3ifv",
        "outputId": "cc66300f-7ade-42a9-95a1-a2c8f67b92f3"
      },
      "source": [
        "conv2_acti = keras.Model(model.input, model.layers[2].output)\n",
        "\n",
        "feature_maps = conv2_acti.predict(inputs)\n",
        "print(feature_maps.shape)\n",
        "\n",
        "fig, axs = plt.subplots(4, 8, figsize=(15, 8))\n",
        "for i in range(4):\n",
        "  for j in range(8):\n",
        "    axs[i, j].imshow(feature_maps[0, :, :, i*8 + j])\n",
        "    axs[i, j].axis(\"off\")\n",
        "plt.show()"
      ],
      "execution_count": 26,
      "outputs": [
        {
          "output_type": "stream",
          "text": [
            "WARNING:tensorflow:6 out of the last 7 calls to <function Model.make_predict_function.<locals>.predict_function at 0x7fd5a8199680> triggered tf.function retracing. Tracing is expensive and the excessive number of tracings could be due to (1) creating @tf.function repeatedly in a loop, (2) passing tensors with different shapes, (3) passing Python objects instead of tensors. For (1), please define your @tf.function outside of the loop. For (2), @tf.function has experimental_relax_shapes=True option that relaxes argument shapes that can avoid unnecessary retracing. For (3), please refer to https://www.tensorflow.org/guide/function#controlling_retracing and https://www.tensorflow.org/api_docs/python/tf/function for  more details.\n",
            "(1, 14, 14, 32)\n"
          ],
          "name": "stdout"
        },
        {
          "output_type": "display_data",
          "data": {
            "image/png": "[encoded data removed]",
            "text/plain": [
              "<Figure size 1080x576 with 32 Axes>"
            ]
          },
          "metadata": {
            "tags": [],
            "needs_background": "light"
          }
        }
      ]
    }
  ]
}