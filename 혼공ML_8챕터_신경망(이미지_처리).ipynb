{
  "nbformat": 4,
  "nbformat_minor": 0,
  "metadata": {
    "colab": {
      "name": "혼공ML 8챕터: 신경망(이미지 처리)",
      "provenance": [],
      "collapsed_sections": [],
      "authorship_tag": "ABX9TyMqqqsgWJ+lUoutfQfSAcSN",
      "include_colab_link": true
    },
    "kernelspec": {
      "name": "python3",
      "display_name": "Python 3"
    },
    "language_info": {
      "name": "python"
    },
    "accelerator": "GPU"
  },
  "cells": [
    {
      "cell_type": "markdown",
      "metadata": {
        "id": "view-in-github",
        "colab_type": "text"
      },
      "source": [
        "<a href=\"https://colab.research.google.com/github/Kang-Inprogress/-ML/blob/main/%ED%98%BC%EA%B3%B5ML_8%EC%B1%95%ED%84%B0_%EC%8B%A0%EA%B2%BD%EB%A7%9D(%EC%9D%B4%EB%AF%B8%EC%A7%80_%EC%B2%98%EB%A6%AC).ipynb\" target=\"_parent\"><img src=\"https://colab.research.google.com/assets/colab-badge.svg\" alt=\"Open In Colab\"/></a>"
      ]
    },
    {
      "cell_type": "markdown",
      "metadata": {
        "id": "uGibcJF4kaY0"
      },
      "source": [
        "# **Convolution Neural Network**\n",
        "\n",
        "CNN에서...\n",
        "\n",
        "뉴런 = 필터: 필터처럼 몇 개의 입력만을 가지고 출력을 하나 만들어낸다\n",
        "\n",
        "필터의 크기 또한 우리가 지정해야 할 하이퍼파라미터이다.\n",
        "\n",
        "합성곱 계산을 통해 얻은 출력을 특성 맵feature map 이라고 한다.\n",
        "\n",
        "합성곱 층에 있는 필터(뉴런)의 가중치가 모두 다르기 때문에 특성 맵을 필터 개수만큼 쌓은 차원의 출력이 된다. 특성 맵(2차원) x 필터 개수 => 3차원\n",
        "\n",
        "출력(특성 맵)이 2차원 형태를 유지하기 때문에:데이터의 공간 특성을 그대로 유지하며 학습하기 때문에 *이미지* 처리 분야에서 뛰어난 성능을 발휘한다. "
      ]
    },
    {
      "cell_type": "code",
      "metadata": {
        "id": "xeNcIOLmoU45"
      },
      "source": [
        "from tensorflow import keras\n",
        "\n",
        "keras.layers.conv2D(10, kernel_size(3,3), activation=\"relu\") # kernel_size 는 보통 (3,3) 이나 (5,5)가 권장된다."
      ],
      "execution_count": null,
      "outputs": []
    },
    {
      "cell_type": "markdown",
      "metadata": {
        "id": "1JUFbGBnosD8"
      },
      "source": [
        "# 패딩과 스트라이드\n",
        "\n",
        "(4,4) 크기의 입력을 (3,3)크기의 커널로 합성곱을 했을 때 똑같은 크기의 차원으로 출력으로 하려한다면, 입력을 (6,6)이라고 속이면 될 것이다. 원래 (4,4)만큼의 데이터를 놔두고 나머지를 0값으로 채워 (6,6)을 만드는 기법을 **패딩**이라고 한다.\n",
        "\n",
        "-> 0으로 채우는데 출력값에 영향을 주지 않는가? 간단히 말하자면 패딩의 역할은 순전히 커널의 합성곱 횟수를 늘려주는 것밖에는 없다. 실제계산에서 0이면 영향이 미치는 일이 없기 때문이다.\n",
        "\n",
        "+ 0으로 채우는 것을 세임 패딩(same padding). \n",
        "+ 순수한 입력 배열에서 합성곱을 하여 특성 맵을 만드는 경우를 밸리드 패딩valid padding이라고 한다.\n",
        "\n",
        "-> 세임 패딩을 하는 이유? 밸리드 패딩을 사용한다면 자연스레 중간에 있는 값들은 중앙에 있는 커널들과 비교했을 때 참여비율이 차이가 난다. 중요도가 떨어져보이게 되기 때문\n",
        "\n",
        "\n",
        "\n"
      ]
    },
    {
      "cell_type": "code",
      "metadata": {
        "id": "W0GwsK_oqo-q"
      },
      "source": [
        "from tensorflow import keras\n",
        "\n",
        "keras.layers.conv2D(10, kernel_size(3,3), activation=\"relu\", padding=\"same\") # padding을 부여 하지 않으면 자동으로 밸리드 패딩이 된다."
      ],
      "execution_count": null,
      "outputs": []
    },
    {
      "cell_type": "markdown",
      "metadata": {
        "id": "67u01Kddr4Og"
      },
      "source": [
        "합성곱을 할 때 커널은 한 칸씩 이동했는데 이 경우 **스트라이드**가 1이다. 스트라이드는 strides 속성으로 움직일 칸 수를 직접 조절할 수 있다."
      ]
    },
    {
      "cell_type": "markdown",
      "metadata": {
        "id": "P4quLO0OyA-J"
      },
      "source": [
        "# 풀링 Pooling\n",
        "합성곱 처럼 입력 위를 지나가면서 수행한다. 풀링에는 가중치가 없기 때문에 최대값이나 평균값을 계산해서 크기를 작게 설정한다.\n",
        "(n, n) 크기의 풀링에서...\n",
        "\n",
        "+ 최대 풀링: 해당 차원의 원소에서 가장 큰 값을 출력\n",
        "\n",
        "+ 평균 풀링: 해당 차원의 원소들의 평균 값을 출력\n",
        "\n",
        "이동 시 합성곱의 필터와 다른 점은 겹치지 않게 이동한다는 점이다: 풀링 크기 = 스트라이드"
      ]
    },
    {
      "cell_type": "code",
      "metadata": {
        "id": "EBxcQN-lyxAk"
      },
      "source": [
        "keras.layers.MaxPooling2D(2)\n",
        "\n",
        "keras.layers.MaxPooling2D(2, strides=2, padding=\"valid\")"
      ],
      "execution_count": null,
      "outputs": []
    },
    {
      "cell_type": "markdown",
      "metadata": {
        "id": "6i3cBg1yzY5e"
      },
      "source": [
        "**입력 차원이 3차원 이상이라면 필터 또한 그 차원과 해당 차원의 깊이가 같아야한다. 보통 합성곱 층은 3차원을 기대**\n",
        "\n",
        "필터의 차원이 몇 개이던지 출력은 항상 하나의 값이다.\n",
        "3차원 입력에서, 필터하나는 1층의 특성 맵을 출력하니까 필터가 n개면 특성 맵의 층도 n개로 이루어 질 것이다."
      ]
    },
    {
      "cell_type": "markdown",
      "metadata": {
        "id": "R9I7GqLg7PJ-"
      },
      "source": [
        "# 실전: 합성곱 신경망을 사용한 이미지 분류"
      ]
    },
    {
      "cell_type": "markdown",
      "metadata": {
        "id": "NYR4Q0YX7TAj"
      },
      "source": [
        "CNN에서 입력 이미지는 항상 깊이(채널)이 있어야한다. 그러므로 최소 1의 깊이(채널)차원을 추가해 준다.\n",
        "\n",
        "MNIST 데이터셋"
      ]
    },
    {
      "cell_type": "code",
      "metadata": {
        "colab": {
          "base_uri": "https://localhost:8080/"
        },
        "id": "bZouRSF173j2",
        "outputId": "ac044790-b5d5-4f29-ea40-7cb6ea5e412b"
      },
      "source": [
        "from tensorflow import keras\n",
        "from sklearn.model_selection import train_test_split\n",
        "\n",
        "(train_input, train_target), (test_input, test_target) = keras.datasets.fashion_mnist.load_data()\n",
        "train_scaled = train_input.reshape(-1, 28, 28, 1)/ 255.0 # reshape(-1, 28, 28, 1)로 깊이가 1인 차원을 추가했다\n",
        "train_scaled, val_scaled, train_target, val_target = train_test_split(train_scaled, train_target, test_size=0.2, random_state=42)"
      ],
      "execution_count": 2,
      "outputs": [
        {
          "output_type": "stream",
          "text": [
            "Downloading data from https://storage.googleapis.com/tensorflow/tf-keras-datasets/train-labels-idx1-ubyte.gz\n",
            "32768/29515 [=================================] - 0s 0us/step\n",
            "Downloading data from https://storage.googleapis.com/tensorflow/tf-keras-datasets/train-images-idx3-ubyte.gz\n",
            "26427392/26421880 [==============================] - 1s 0us/step\n",
            "Downloading data from https://storage.googleapis.com/tensorflow/tf-keras-datasets/t10k-labels-idx1-ubyte.gz\n",
            "8192/5148 [===============================================] - 0s 0us/step\n",
            "Downloading data from https://storage.googleapis.com/tensorflow/tf-keras-datasets/t10k-images-idx3-ubyte.gz\n",
            "4423680/4422102 [==============================] - 0s 0us/step\n"
          ],
          "name": "stdout"
        }
      ]
    },
    {
      "cell_type": "code",
      "metadata": {
        "id": "YWbpzGbZ8txm"
      },
      "source": [
        "model = keras.Sequential()\n",
        "model.add(keras.layers.Conv2D(32, kernel_size=3, activation=\"relu\", padding=\"same\", input_shape=(28, 28, 1))) # 필터(뉴런) 32개, 커널 사이즈(3,3), 활성화함수=\"relu\", 세임패딩\n",
        "model.add(keras.layers.MaxPooling2D(2)) # (2, 2)풀링으로 절반으로 줄어듦\n",
        "model.add(keras.layers.Conv2D(32, kernel_size=3, activation=\"relu\", padding=\"same\"))\n",
        "model.add(keras.layers.MaxPooling2D(2))\n",
        "\n",
        "model.add(keras.layers.Flatten())\n",
        "model.add(keras.layers.Dense(100, activation=\"relu\"))\n",
        "model.add(keras.layers.Dropout(0.4))\n",
        "model.add(keras.layers.Dense(10, activation=\"softmax\"))"
      ],
      "execution_count": 23,
      "outputs": []
    },
    {
      "cell_type": "code",
      "metadata": {
        "id": "e5emPFnZ-K-z"
      },
      "source": [
        "model.summary()"
      ],
      "execution_count": null,
      "outputs": []
    },
    {
      "cell_type": "code",
      "metadata": {
        "id": "fjon-BwW-lpg"
      },
      "source": [
        "keras.utils.plot_model(model, show_shapes=True, to_file=\"cnn-architecture.png\", dpi=300)"
      ],
      "execution_count": null,
      "outputs": []
    },
    {
      "cell_type": "code",
      "metadata": {
        "colab": {
          "base_uri": "https://localhost:8080/"
        },
        "id": "kGaU_ODU_kpI",
        "outputId": "b8c31755-969a-4840-af55-10fa2dd08793"
      },
      "source": [
        "model.compile(optimizer=\"adam\", loss=\"sparse_categorical_crossentropy\", metrics=\"accuracy\")\n",
        "checkpoint_cb = keras.callbacks.ModelCheckpoint(\"best-cnn-model.h5\")\n",
        "early_stopping_cb = keras.callbacks.EarlyStopping(patience=2, restore_best_weights=True)\n",
        "history = model.fit(train_scaled, train_target, epochs=20, validation_data=(val_scaled, val_target), callbacks=[checkpoint_cb, early_stopping_cb])"
      ],
      "execution_count": 4,
      "outputs": [
        {
          "output_type": "stream",
          "text": [
            "Epoch 1/20\n",
            "1500/1500 [==============================] - 36s 3ms/step - loss: 0.5412 - accuracy: 0.8062 - val_loss: 0.3526 - val_accuracy: 0.8692\n",
            "Epoch 2/20\n",
            "1500/1500 [==============================] - 5s 3ms/step - loss: 0.3609 - accuracy: 0.8680 - val_loss: 0.3071 - val_accuracy: 0.8861\n",
            "Epoch 3/20\n",
            "1500/1500 [==============================] - 5s 3ms/step - loss: 0.3137 - accuracy: 0.8867 - val_loss: 0.2878 - val_accuracy: 0.8881\n",
            "Epoch 4/20\n",
            "1500/1500 [==============================] - 5s 3ms/step - loss: 0.2804 - accuracy: 0.8986 - val_loss: 0.2528 - val_accuracy: 0.9037\n",
            "Epoch 5/20\n",
            "1500/1500 [==============================] - 4s 3ms/step - loss: 0.2570 - accuracy: 0.9059 - val_loss: 0.2393 - val_accuracy: 0.9114\n",
            "Epoch 6/20\n",
            "1500/1500 [==============================] - 4s 3ms/step - loss: 0.2374 - accuracy: 0.9127 - val_loss: 0.2275 - val_accuracy: 0.9147\n",
            "Epoch 7/20\n",
            "1500/1500 [==============================] - 5s 3ms/step - loss: 0.2224 - accuracy: 0.9182 - val_loss: 0.2304 - val_accuracy: 0.9131\n",
            "Epoch 8/20\n",
            "1500/1500 [==============================] - 4s 3ms/step - loss: 0.2068 - accuracy: 0.9236 - val_loss: 0.2255 - val_accuracy: 0.9190\n",
            "Epoch 9/20\n",
            "1500/1500 [==============================] - 5s 3ms/step - loss: 0.2011 - accuracy: 0.9252 - val_loss: 0.2247 - val_accuracy: 0.9196\n",
            "Epoch 10/20\n",
            "1500/1500 [==============================] - 4s 3ms/step - loss: 0.1859 - accuracy: 0.9311 - val_loss: 0.2287 - val_accuracy: 0.9183\n",
            "Epoch 11/20\n",
            "1500/1500 [==============================] - 4s 3ms/step - loss: 0.1750 - accuracy: 0.9345 - val_loss: 0.2295 - val_accuracy: 0.9185\n"
          ],
          "name": "stdout"
        }
      ]
    },
    {
      "cell_type": "code",
      "metadata": {
        "colab": {
          "base_uri": "https://localhost:8080/"
        },
        "id": "2dPDpskvuhQq",
        "outputId": "3fb34258-46dd-4176-a8c9-8deed6b05997"
      },
      "source": [
        "model.evaluate(val_scaled, val_target)"
      ],
      "execution_count": 8,
      "outputs": [
        {
          "output_type": "stream",
          "text": [
            "375/375 [==============================] - 1s 2ms/step - loss: 0.2325 - accuracy: 0.9190\n"
          ],
          "name": "stdout"
        },
        {
          "output_type": "execute_result",
          "data": {
            "text/plain": [
              "[0.23247025907039642, 0.9190000295639038]"
            ]
          },
          "metadata": {
            "tags": []
          },
          "execution_count": 8
        }
      ]
    },
    {
      "cell_type": "code",
      "metadata": {
        "colab": {
          "base_uri": "https://localhost:8080/"
        },
        "id": "mqznaW4WuypW",
        "outputId": "ed38450f-7174-4215-b9e5-81bccee45d2d"
      },
      "source": [
        "preds = model.predict(val_scaled[0:1]) # (1, 28, 28, 1) 크기의 데이터 전달\n",
        "print(preds)  "
      ],
      "execution_count": 9,
      "outputs": [
        {
          "output_type": "stream",
          "text": [
            "[[2.0977413e-20 1.4621292e-31 7.2727220e-23 2.5093261e-21 4.7217259e-21\n",
            "  9.6351951e-23 7.0386224e-22 5.2295823e-22 1.0000000e+00 3.5005407e-24]]\n"
          ],
          "name": "stdout"
        }
      ]
    },
    {
      "cell_type": "markdown",
      "metadata": {
        "id": "JMcLSia3ySEX"
      },
      "source": [
        "# CNN 시각화\n"
      ]
    },
    {
      "cell_type": "code",
      "metadata": {
        "id": "rkWmRhK6ypZ7"
      },
      "source": [
        "from tensorflow import keras\n",
        "\n",
        "model = keras.models.load_model(\"best-cnn-model.h5\")\n",
        "# model.layers"
      ],
      "execution_count": 5,
      "outputs": []
    },
    {
      "cell_type": "code",
      "metadata": {
        "colab": {
          "base_uri": "https://localhost:8080/"
        },
        "id": "v6-QFxcfyvXH",
        "outputId": "ef6b6949-8e26-4843-8ec8-267fcee6e188"
      },
      "source": [
        "conv = model.layers[0]\n",
        "print(\"가중치의 크기: \", conv.weights[0].shape, \"| 절편의 크기: \", conv.weights[1].shape) # weight는 파이썬 리스트. 첫 번째 원소: 가중치와 두 번째 원소: 절편의 크기를 알 수 있다.\n",
        "conv_weights = conv.weights[0].numpy()\n",
        "print(\"가중치의 평균값:\", conv_weights.mean(), \"| 가중치의 표준편차: \", conv_weights.std())"
      ],
      "execution_count": 9,
      "outputs": [
        {
          "output_type": "stream",
          "text": [
            "가중치의 크기:  (3, 3, 1, 32) | 절편의 크기:  (32,)\n",
            "가중치의 평균값: -0.020119244 | 가중치의 표준편차:  0.27198008\n"
          ],
          "name": "stdout"
        }
      ]
    },
    {
      "cell_type": "markdown",
      "metadata": {
        "id": "njl3szxR_aF2"
      },
      "source": [
        "**시각화해서 훈련된 모델의 가중치와 그렇지 않은 모델의 가중치를 비교하기**"
      ]
    },
    {
      "cell_type": "code",
      "metadata": {
        "colab": {
          "base_uri": "https://localhost:8080/",
          "height": 134
        },
        "id": "GHDIvhM_-pW8",
        "outputId": "5f788381-3dea-4dd0-cea8-a9377da6aa20"
      },
      "source": [
        "# 눈으로 가중치 확인하기\n",
        "\n",
        "import matplotlib.pyplot as plt\n",
        "\n",
        "fig, axs = plt.subplots(2, 16, figsize=(15,2))\n",
        "for i in range(2):\n",
        "  for j in range(16):\n",
        "    axs[i, j].imshow(conv_weights[:, :, 0, i*16 + j], vmin=-0.5, vmax=0.5) # conv_weights의 [:, :, :0, 0]부터 [:, :, :0, 31]까지의 커널 출력\n",
        "    axs[i, j].axis(\"off\")\n",
        "\n",
        "plt.show()\n",
        "\n",
        "# 결과값에서 밝은 부분이 가중치가 높은 것이다."
      ],
      "execution_count": 10,
      "outputs": [
        {
          "output_type": "display_data",
          "data": {
            "image/png": "[encoded data removed]",
            "text/plain": [
              "<Figure size 1080x144 with 32 Axes>"
            ]
          },
          "metadata": {
            "tags": [],
            "needs_background": "light"
          }
        }
      ]
    },
    {
      "cell_type": "code",
      "metadata": {
        "colab": {
          "base_uri": "https://localhost:8080/"
        },
        "id": "fVjmeOa-_heo",
        "outputId": "1fb4dab9-3dbc-4830-82c2-6c198896f44f"
      },
      "source": [
        "# 입력이 같은 모델 생성(훈련되지않음)\n",
        "no_training_model = keras.Sequential()\n",
        "no_training_model.add(keras.layers.Conv2D(32, kernel_size=3, activation=\"relu\", padding=\"same\", input_shape=(28, 28, 1)))\n",
        "# no_training_conv = no_training_model.layers[0]\n",
        "# print(no_training_conv.weights[0].shape)\n",
        "no_training_weights = no_training_conv.weights[0].numpy()\n",
        "print(no_training_weights.mean(), no_training_weights.std())"
      ],
      "execution_count": 12,
      "outputs": [
        {
          "output_type": "stream",
          "text": [
            "0.0009956631 0.08363045\n"
          ],
          "name": "stdout"
        }
      ]
    },
    {
      "cell_type": "code",
      "metadata": {
        "colab": {
          "base_uri": "https://localhost:8080/",
          "height": 134
        },
        "id": "UHzvNlqOBkSG",
        "outputId": "b881ca2a-b92c-43cd-c21f-686e8ed9ce02"
      },
      "source": [
        "fig, axs = plt.subplots(2, 16, figsize=(15,2))\n",
        "for i in range(2):\n",
        "  for j in range(16):\n",
        "    axs[i, j].imshow(no_training_weights[:, :, 0, i*16 + j], vmin=-0.5, vmax=0.5)\n",
        "    axs[i, j].axis(\"off\")\n",
        "\n",
        "plt.show()\n"
      ],
      "execution_count": 13,
      "outputs": [
        {
          "output_type": "display_data",
          "data": {
            "image/png": "[encoded data removed]",
            "text/plain": [
              "<Figure size 1080x144 with 32 Axes>"
            ]
          },
          "metadata": {
            "tags": [],
            "needs_background": "light"
          }
        }
      ]
    },
    {
      "cell_type": "markdown",
      "metadata": {
        "id": "32WsV4-dCIFH"
      },
      "source": [
        "# 함수형 API로 다시 실습해보기"
      ]
    },
    {
      "cell_type": "markdown",
      "metadata": {
        "id": "A_7qOaGeFZSW"
      },
      "source": [
        "**밀집층을 재현해보기**"
      ]
    },
    {
      "cell_type": "code",
      "metadata": {
        "colab": {
          "base_uri": "https://localhost:8080/"
        },
        "id": "4hIieXqiCxXy",
        "outputId": "21fd10c1-91ad-4ca1-8743-1b5696ddf53d"
      },
      "source": [
        "from tensorflow import keras\n",
        "\n",
        "dense1 = keras.layers.Dense(100, activation=\"sigmoid\")\n",
        "dense2 = keras.layers.Dense(100, activation=\"sigmoid\")\n",
        "dense3 = keras.layers.Dense(10, activation=\"softmax\")\n",
        "\n",
        "inputs = keras.Input(shape=(784, ))\n",
        "\n",
        "# 변수 = 층(층의 입력)\n",
        "hidden = dense1(inputs)\n",
        "hidden2 = dense2(hidden)\n",
        "outputs = dense3(hidden2)\n",
        "model = keras.Model(inputs, outputs)"
      ],
      "execution_count": 20,
      "outputs": [
        {
          "output_type": "execute_result",
          "data": {
            "text/plain": [
              "[<tensorflow.python.keras.engine.input_layer.InputLayer at 0x7f93fd787250>,\n",
              " <tensorflow.python.keras.layers.core.Dense at 0x7f93fd783990>,\n",
              " <tensorflow.python.keras.layers.core.Dense at 0x7f93fd783ed0>,\n",
              " <tensorflow.python.keras.layers.core.Dense at 0x7f93fd783b50>]"
            ]
          },
          "metadata": {
            "tags": []
          },
          "execution_count": 20
        }
      ]
    },
    {
      "cell_type": "markdown",
      "metadata": {
        "id": "8Am2AO3oGEzP"
      },
      "source": [
        "model 객체의 입력과 Conv2D의 출력을 알 수 있다면, 이 둘을 연결하여 새로운 모델을 만드는 것도 가능하다!\n",
        "\n",
        "InputLayer - Conv2D - Maxpooling2D - Conv2D - Maxpooling2D - Flatten - Dense - Dropout - Dense 함수형 API로 만들기"
      ]
    },
    {
      "cell_type": "markdown",
      "metadata": {
        "id": "4_8HNwQMFc1r"
      },
      "source": [
        "**특성 맵 시각화**"
      ]
    },
    {
      "cell_type": "code",
      "metadata": {
        "colab": {
          "base_uri": "https://localhost:8080/",
          "height": 265
        },
        "id": "yrwjlKkJFfed",
        "outputId": "f22b4dfe-3ec8-4725-cd2b-c6fb4b95b281"
      },
      "source": [
        "import matplotlib.pyplot as plt\n",
        "\n",
        "(train_input, train_target), (test_input, test_target) = keras.datasets.fashion_mnist.load_data()\n",
        "plt.imshow(train_input[0], cmap=\"gray_r\")\n",
        "plt.show()"
      ],
      "execution_count": 22,
      "outputs": [
        {
          "output_type": "display_data",
          "data": {
            "image/png": "[encoded data removed]",
            "text/plain": [
              "<Figure size 432x288 with 1 Axes>"
            ]
          },
          "metadata": {
            "tags": [],
            "needs_background": "light"
          }
        }
      ]
    }
  ]
}