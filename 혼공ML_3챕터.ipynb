{
  "nbformat": 4,
  "nbformat_minor": 0,
  "metadata": {
    "colab": {
      "name": "혼공ML 3챕터",
      "provenance": [],
      "authorship_tag": "ABX9TyOlrPyHosejR8+Xlp2Bw8bH",
      "include_colab_link": true
    },
    "kernelspec": {
      "name": "python3",
      "display_name": "Python 3"
    },
    "language_info": {
      "name": "python"
    }
  },
  "cells": [
    {
      "cell_type": "markdown",
      "metadata": {
        "id": "view-in-github",
        "colab_type": "text"
      },
      "source": [
        "<a href=\"https://colab.research.google.com/github/Kang-Inprogress/-ML/blob/main/%ED%98%BC%EA%B3%B5ML_3%EC%B1%95%ED%84%B0.ipynb\" target=\"_parent\"><img src=\"https://colab.research.google.com/assets/colab-badge.svg\" alt=\"Open In Colab\"/></a>"
      ]
    },
    {
      "cell_type": "markdown",
      "metadata": {
        "id": "HM3EHdzQnWFi"
      },
      "source": [
        "# 회귀 알고리즘과 모델 규제\n",
        "\n",
        "> k-nn 회귀\n",
        "\n",
        "회귀: 한 바퀴 돌아서 본디의 자리나 상태로 돌아오는 것. 순화어는 `돌아옴'."
      ]
    },
    {
      "cell_type": "code",
      "metadata": {
        "id": "Xnbb1l-3obJ1"
      },
      "source": [
        "import numpy as np\n",
        "\n",
        "# 데이터의 준비\n",
        "\n",
        "perch_length = np.array([8.4, 13.7, 15.0, 16.2, 17.4, 18.0, 18.7, 19.0, 19.6, 20.0, 21.0,\n",
        "       21.0, 21.0, 21.3, 22.0, 22.0, 22.0, 22.0, 22.0, 22.5, 22.5, 22.7,\n",
        "       23.0, 23.5, 24.0, 24.0, 24.6, 25.0, 25.6, 26.5, 27.3, 27.5, 27.5,\n",
        "       27.5, 28.0, 28.7, 30.0, 32.8, 34.5, 35.0, 36.5, 36.0, 37.0, 37.0,\n",
        "       39.0, 39.0, 39.0, 40.0, 40.0, 40.0, 40.0, 42.0, 43.0, 43.0, 43.5,\n",
        "       44.0])\n",
        "perch_weight = np.array([5.9, 32.0, 40.0, 51.5, 70.0, 100.0, 78.0, 80.0, 85.0, 85.0, 110.0,\n",
        "       115.0, 125.0, 130.0, 120.0, 120.0, 130.0, 135.0, 110.0, 130.0,\n",
        "       150.0, 145.0, 150.0, 170.0, 225.0, 145.0, 188.0, 180.0, 197.0,\n",
        "       218.0, 300.0, 260.0, 265.0, 250.0, 250.0, 300.0, 320.0, 514.0,\n",
        "       556.0, 840.0, 685.0, 700.0, 700.0, 690.0, 900.0, 650.0, 820.0,\n",
        "       850.0, 900.0, 1015.0, 820.0, 1100.0, 1000.0, 1100.0, 1000.0,\n",
        "       1000.0])"
      ],
      "execution_count": null,
      "outputs": []
    },
    {
      "cell_type": "code",
      "metadata": {
        "colab": {
          "base_uri": "https://localhost:8080/",
          "height": 279
        },
        "id": "uumY0YnDotyg",
        "outputId": "2a2de58d-cbcd-4565-bf15-a6e2358c6439"
      },
      "source": [
        "import matplotlib.pyplot as plt\n",
        "plt.scatter(perch_length, perch_weight)\n",
        "plt.xlabel(\"length\")\n",
        "plt.ylabel(\"weight\")\n",
        "plt.show()"
      ],
      "execution_count": null,
      "outputs": [
        {
          "output_type": "display_data",
          "data": {
            "image/png": "[encoded data removed]",
            "text/plain": [
              "<Figure size 432x288 with 1 Axes>"
            ]
          },
          "metadata": {
            "tags": [],
            "needs_background": "light"
          }
        }
      ]
    },
    {
      "cell_type": "code",
      "metadata": {
        "id": "qzZlYnalqGfI"
      },
      "source": [
        "from sklearn.model_selection import train_test_split\n",
        "\n",
        "# 훈련 세트와 테스트 세트 나눔\n",
        "\n",
        "train_input, test_input, train_target, test_target = train_test_split(perch_length, perch_weight, random_state=42)\n",
        "\n",
        "train_input = train_input.reshape(-1, 1)\n",
        "test_input = test_input.reshape(-1, 1) # 배열을 2차원으로 변경하고, 1개의 열을 가지는 행이 원소 개수만큼 존재하게 끔 변형됨"
      ],
      "execution_count": null,
      "outputs": []
    },
    {
      "cell_type": "code",
      "metadata": {
        "colab": {
          "base_uri": "https://localhost:8080/"
        },
        "id": "KYBXhe7uq3NR",
        "outputId": "b150974f-7ea2-4f6e-e783-2f5cbbdeb643"
      },
      "source": [
        "from sklearn.neighbors import KNeighborsRegressor\n",
        "\n",
        "knr = KNeighborsRegressor()\n",
        "\n",
        "knr.fit(train_input, train_target)\n",
        "\n",
        "print(knr.score(test_input, test_target)) # score에서 출력값은 1에 가까울 수록 좋은 것이다. 분류에서는 정확도를, 회귀에서는 결정 계수를 뜻한다"
      ],
      "execution_count": null,
      "outputs": [
        {
          "output_type": "stream",
          "text": [
            "0.9928094061010639\n"
          ],
          "name": "stdout"
        }
      ]
    },
    {
      "cell_type": "markdown",
      "metadata": {
        "id": "REb9wuHkrwmf"
      },
      "source": [
        "결정 계수를 대신해서 측정을 도와주는 도구\n",
        "\n",
        "결정 계수와 이러한 것들은 성능 지표가 되어 준다"
      ]
    },
    {
      "cell_type": "code",
      "metadata": {
        "colab": {
          "base_uri": "https://localhost:8080/"
        },
        "id": "qeKJ0dUUuJ9d",
        "outputId": "44340064-1654-4116-803d-40ff21a3bb00"
      },
      "source": [
        "from sklearn.metrics import mean_absolute_error\n",
        "\n",
        "test_prediction = knr.predict(test_input)\n",
        "\n",
        "mae = mean_absolute_error(test_target, test_prediction)\n",
        "print(mae)"
      ],
      "execution_count": null,
      "outputs": [
        {
          "output_type": "stream",
          "text": [
            "19.157142857142862\n"
          ],
          "name": "stdout"
        }
      ]
    },
    {
      "cell_type": "markdown",
      "metadata": {
        "id": "lZ5tJ_LZvBF7"
      },
      "source": [
        "# 과대적합과 과소적합\n",
        "\n",
        "훈련 세트의 점수 > 테스트 세트 점수: 과대 적합\n",
        "\n",
        "훈련 세트의 점수 < 테스트 세트 점수 **또는** 두 점수가 모두 낮을 때: 과소 적합\n",
        "\n",
        "> 과소 적합의 해결\n",
        "\n",
        "모델을 조금 더 복잡하게 만든다. 여기서는 K-nn을 사용하였으므로 이웃의 개수를 줄여서 모델을 데이터 패턴에 더 민감하게 만드는 방법이 있다.\n",
        "\n",
        "\n",
        "> 과대 적합의 해결\n",
        "\n",
        "모델을 덜 복잡하게 만들어야한다. 모델의 파라미터 수가 더 적은 모델을 사용하거나, 모델에 제약, 더 많은 훈련 데이터의 확보 등이 있다. k-nn의 경우에는 이웃의 갯수를 늘리는 것.\n",
        "\n",
        "\n"
      ]
    },
    {
      "cell_type": "markdown",
      "metadata": {
        "id": "W84CQdD7Vg4O"
      },
      "source": [
        "\n",
        "\n",
        "---\n",
        "\n",
        "\n",
        "k-nn알고리즘은 한계가 있다. 예를 들어, 농어와 빙어의 데이터 셋에 농어의 길이가 50cm인 데이터가 새로 들어온다면 기존에 있던 농어의 길이보다는 훨씬 길지만 무게는 크게 다르지 않은 값이 나올것이다. 그 이유는 k-nn이 근처의 이웃의 값을 참고해서 예측하기 때문이다. 그러므로 이런 상황에서는 우리는 알고리즘을 바꿀 필요가 있을 것이다."
      ]
    },
    {
      "cell_type": "markdown",
      "metadata": {
        "id": "sFEsWf6oWMXf"
      },
      "source": [
        "# 선형회귀\n",
        "널리 사용되는 대표적인 회귀 알고리즘이다. 어떤 **직선**을 학습한다.\n",
        "\n"
      ]
    },
    {
      "cell_type": "code",
      "metadata": {
        "colab": {
          "base_uri": "https://localhost:8080/"
        },
        "id": "R4YbdNlKWKYA",
        "outputId": "0ff5d880-bf4a-426c-ea95-8f0a21f6fc84"
      },
      "source": [
        "from sklearn.linear_model import LinearRegression\n",
        "\n",
        "lr = LinearRegression()\n",
        "\n",
        "lr.fit(train_input, train_target)\n",
        "\n",
        "print(lr.predict([[50]]))\n",
        "\n",
        "# print(lr.coef_, lr.intercept_) 모델이 학습하여 구한 파라미터를 출력"
      ],
      "execution_count": null,
      "outputs": [
        {
          "output_type": "stream",
          "text": [
            "[1241.83860323]\n",
            "[39.01714496] -709.0186449535477\n"
          ],
          "name": "stdout"
        }
      ]
    },
    {
      "cell_type": "markdown",
      "metadata": {
        "id": "xldQ5hYQYMZd"
      },
      "source": [
        "# 다항회귀\n",
        "차원을 올린 선형 방정식 정도로 이해하자\n",
        "\n",
        "위의 데이터 셋 기준으로 길이를 제곱한 항이 훈련세트에 추가되어야 한다."
      ]
    },
    {
      "cell_type": "code",
      "metadata": {
        "colab": {
          "base_uri": "https://localhost:8080/"
        },
        "id": "gjk3dHt0b3KW",
        "outputId": "fcc85551-c411-4ca2-a346-0f5fcba37a14"
      },
      "source": [
        "train_poly = np.column_stack((train_input ** 2, train_input))\n",
        "test_poly = np.column_stack((test_input ** 2, test_input))\n",
        "\n",
        "print(train_poly.shape, test_poly.shape)"
      ],
      "execution_count": null,
      "outputs": [
        {
          "output_type": "stream",
          "text": [
            "(42, 2) (14, 2)\n"
          ],
          "name": "stdout"
        }
      ]
    },
    {
      "cell_type": "code",
      "metadata": {
        "colab": {
          "base_uri": "https://localhost:8080/"
        },
        "id": "byskS-DOc177",
        "outputId": "dd4a4b7b-6d26-498c-cd9e-900633bdf462"
      },
      "source": [
        "# 다항으로 변경된 테스트 셋으로 다시 훈련\n",
        "lr = LinearRegression()\n",
        "\n",
        "lr.fit(train_poly, train_target)\n",
        "\n",
        "print(lr.predict([[50**2, 50]]))\n",
        "\n",
        "# print(lr.coef_, lr.intercept_)"
      ],
      "execution_count": null,
      "outputs": [
        {
          "output_type": "stream",
          "text": [
            "[1573.98423528]\n",
            "[  1.01433211 -21.55792498] 116.05021078278276\n"
          ],
          "name": "stdout"
        }
      ]
    },
    {
      "cell_type": "markdown",
      "metadata": {
        "id": "GtKZlpGodcIK"
      },
      "source": [
        "**특성을 제곱한 것에 이름을 부여해서 다른 특성으로 치부한다면, 기존의 특성과 새로운 특성하나가 추가되어서 선형적인 관계를 가질 수 있으므로 선형 회귀라는 의미가 훼손되지 않는다**"
      ]
    },
    {
      "cell_type": "code",
      "metadata": {
        "colab": {
          "base_uri": "https://localhost:8080/",
          "height": 279
        },
        "id": "jlFm5HAvdrAb",
        "outputId": "e3349e59-1253-4c12-94b5-d46e4a749dbe"
      },
      "source": [
        "# 구간별 직선을 그리기 위해 15에서 49까지 정수 배열을 만듦\n",
        "point = np.arange(15, 55)\n",
        "\n",
        "plt.scatter(train_input, train_target)\n",
        "\n",
        "plt.plot(point, 1.01 * point**2 - 21.6 * point + 116.05) # 다항회귀로 학습한 그래프: 무게 = 1.01 x 길이x길이 - 21.6 x 길이 + 116.05\n",
        "\n",
        "plt.scatter(50, 1574, marker='^')\n",
        "plt.xlabel('length')\n",
        "plt.ylabel('weight')\n",
        "plt.show()"
      ],
      "execution_count": null,
      "outputs": [
        {
          "output_type": "display_data",
          "data": {
            "image/png": "[encoded data removed]",
            "text/plain": [
              "<Figure size 432x288 with 1 Axes>"
            ]
          },
          "metadata": {
            "tags": [],
            "needs_background": "light"
          }
        }
      ]
    },
    {
      "cell_type": "code",
      "metadata": {
        "colab": {
          "base_uri": "https://localhost:8080/"
        },
        "id": "zBYgQjyTfK_M",
        "outputId": "6934ee9e-0d18-4135-c694-96a15cf6325f"
      },
      "source": [
        "print(lr.score(train_poly, train_target))\n",
        "print(lr.score(test_poly, test_target))"
      ],
      "execution_count": null,
      "outputs": [
        {
          "output_type": "stream",
          "text": [
            "0.9706807451768623\n",
            "0.9775935108325122\n"
          ],
          "name": "stdout"
        }
      ]
    },
    {
      "cell_type": "markdown",
      "metadata": {
        "id": "2W3hBAY6jLox"
      },
      "source": [
        "# 특성 공학\n"
      ]
    },
    {
      "cell_type": "code",
      "metadata": {
        "id": "b0Vmnty5jOS-"
      },
      "source": [
        "# 판다스\n",
        "\n",
        "\n",
        "# 사이킷런의 변환기로 변환\n",
        "from sklearn.preprocessing import PolynomialFeatures\n",
        "\n",
        "poly = PolynomialFeatures(degree=5) # include_bias = False 옵션은 Default\n",
        "# poly.fit(train_input)\n",
        "# train_poly = poly.transform(train_input)\n",
        "# print(train_poly.shape)\n",
        "\n",
        "train_poly = poly.fit_transform(train_input) # fit과 transform을 합친 함수\n",
        "# print(train_poly.shape, poly.get_feature_names())\n",
        "test_poly = poly.fit_transform(test_input)"
      ],
      "execution_count": null,
      "outputs": []
    },
    {
      "cell_type": "code",
      "metadata": {
        "colab": {
          "base_uri": "https://localhost:8080/"
        },
        "id": "nlM3FZ7ikp40",
        "outputId": "f3e4f0fb-62e5-4d0f-fade-3e43dc058672"
      },
      "source": [
        "from sklearn.linear_model import LinearRegression\n",
        "lr = LinearRegression()\n",
        "lr.fit(train_poly, train_target)\n",
        "print(lr.score(train_poly, train_target))\n",
        "print(lr.score(test_poly, test_target))"
      ],
      "execution_count": null,
      "outputs": [
        {
          "output_type": "stream",
          "text": [
            "0.9739334260896343\n",
            "0.9825340925888683\n"
          ],
          "name": "stdout"
        }
      ]
    },
    {
      "cell_type": "markdown",
      "metadata": {
        "id": "IdaXeauRlUWo"
      },
      "source": [
        "# 규제\n",
        "머신러닝 모델이 훈련 세트를 너무 과도하게 학습하지 못하도록 하는 것\n",
        "\n",
        "[예] 선형 회귀 모델의 경우 특성에 곱해지는 계수(또는 기울기)의 크기를 작게 만드는 일\n",
        "\n",
        "선형 회귀 모델에 규제를 추가한 모델을 릿지와 라쏘라고 부른다"
      ]
    },
    {
      "cell_type": "code",
      "metadata": {
        "id": "gw-TqEaxziHL"
      },
      "source": [
        "# 데이터의 준비(PolynomialFeatures로 만든 train_poly 등을 사용)\n",
        "from sklearn.preprocessing import StandardScaler\n",
        "\n",
        "ss = StandardScaler()\n",
        "ss.fit(train_poly)\n",
        "train_scaled = ss.transform(train_poly)\n",
        "test_scaled = ss.transform(test_poly)"
      ],
      "execution_count": null,
      "outputs": []
    },
    {
      "cell_type": "markdown",
      "metadata": {
        "id": "wNMkZDxr0j7S"
      },
      "source": [
        "**Ridge 릿지**\n",
        "\n",
        "계수를 제곱한 값을 기준으로 규제를 적용"
      ]
    },
    {
      "cell_type": "code",
      "metadata": {
        "colab": {
          "base_uri": "https://localhost:8080/"
        },
        "id": "nyi8KPag0FbR",
        "outputId": "83b6f763-9bf3-48ac-9a78-2cdaca39da0d"
      },
      "source": [
        "from sklearn.linear_model import Ridge\n",
        "ridge = Ridge()\n",
        "ridge.fit(train_scaled, train_target)\n",
        "print(ridge.score(train_scaled, train_target))"
      ],
      "execution_count": null,
      "outputs": [
        {
          "output_type": "stream",
          "text": [
            "0.9675257933461249\n"
          ],
          "name": "stdout"
        }
      ]
    },
    {
      "cell_type": "code",
      "metadata": {
        "colab": {
          "base_uri": "https://localhost:8080/"
        },
        "id": "9wSWcmmG1b4t",
        "outputId": "8523fd5c-5518-4941-c51c-be07ba335cd0"
      },
      "source": [
        "print(ridge.score(test_scaled, test_target))"
      ],
      "execution_count": null,
      "outputs": [
        {
          "output_type": "stream",
          "text": [
            "0.9665833996552661\n"
          ],
          "name": "stdout"
        }
      ]
    },
    {
      "cell_type": "code",
      "metadata": {
        "colab": {
          "base_uri": "https://localhost:8080/",
          "height": 335
        },
        "id": "7NxQXQZd2F4l",
        "outputId": "b2341e8a-2a3a-4f8d-a5b8-e314d9a07ea3"
      },
      "source": [
        "import matplotlib.pyplot as plt\n",
        "train_score = []\n",
        "test_score = []\n",
        "\n",
        "alpha_list = [0.001, 0.01, 0.1, 1, 10, 100]\n",
        "for alpha in alpha_list:\n",
        "  ridge = Ridge(alpha=alpha)\n",
        "  ridge.fit(train_scaled, train_target)\n",
        "  train_score.append(ridge.score(train_scaled, train_target))\n",
        "  test_score.append(ridge.score(test_scaled, test_target))\n",
        "\n",
        "plt.plot(np.log10(alpha_list), train_score)\n",
        "plt.plot(np.log10(alpha_list), test_score)\n",
        "plt.xlabel('alpha')\n",
        "plt.ylabel('R^2')\n",
        "plt.show()\n",
        "\n",
        "print(train_score, \"\\n\", test_score)"
      ],
      "execution_count": null,
      "outputs": [
        {
          "output_type": "display_data",
          "data": {
            "image/png": "[encoded data removed]",
            "text/plain": [
              "<Figure size 432x288 with 1 Axes>"
            ]
          },
          "metadata": {
            "tags": [],
            "needs_background": "light"
          }
        },
        {
          "output_type": "stream",
          "text": [
            "[0.9736543234476451, 0.9733770960543661, 0.9708464608091913, 0.9675257933461249, 0.9641329386626265, 0.8627487881080745] \n",
            " [0.9798046964920939, 0.9789530910605554, 0.9764445172290547, 0.9665833996552661, 0.9733177545575481, 0.8976726580323618]\n"
          ],
          "name": "stdout"
        }
      ]
    },
    {
      "cell_type": "markdown",
      "metadata": {
        "id": "qVPooenH0wLq"
      },
      "source": [
        "**Lasso 라쏘**\n",
        "\n",
        "계수의 절댓값을 기준으로 규제를 적용"
      ]
    },
    {
      "cell_type": "code",
      "metadata": {
        "colab": {
          "base_uri": "https://localhost:8080/"
        },
        "id": "InZZAQVr7H1E",
        "outputId": "1d5be841-476f-432b-d557-a8ad6b400c62"
      },
      "source": [
        "from sklearn.linear_model import Lasso\n",
        "\n",
        "lasso = Lasso()\n",
        "lasso.fit(train_scaled, train_target)\n",
        "print(lasso.score(train_scaled, train_target))"
      ],
      "execution_count": null,
      "outputs": [
        {
          "output_type": "stream",
          "text": [
            "0.9692636157789122\n"
          ],
          "name": "stdout"
        }
      ]
    },
    {
      "cell_type": "code",
      "metadata": {
        "colab": {
          "base_uri": "https://localhost:8080/"
        },
        "id": "Ak3gJlfK7X_8",
        "outputId": "a6b9211c-3bf2-49c6-b9a2-ab597a5854c8"
      },
      "source": [
        "print(lasso.score(test_scaled, test_target))"
      ],
      "execution_count": null,
      "outputs": [
        {
          "output_type": "stream",
          "text": [
            "0.9718691066691287\n"
          ],
          "name": "stdout"
        }
      ]
    },
    {
      "cell_type": "code",
      "metadata": {
        "colab": {
          "base_uri": "https://localhost:8080/",
          "height": 443
        },
        "id": "3ygdDf817hQZ",
        "outputId": "7eede0bc-e225-4227-e9b3-7e6d43c06ad2"
      },
      "source": [
        "import matplotlib.pyplot as plt\n",
        "train_score = []\n",
        "test_score = []\n",
        "\n",
        "alpha_list = [0.001, 0.01, 0.1, 1, 10, 100]\n",
        "for alpha in alpha_list:\n",
        "  lasso = Lasso(alpha=alpha)\n",
        "  lasso.fit(train_scaled, train_target)\n",
        "  train_score.append(lasso.score(train_scaled, train_target))\n",
        "  test_score.append(lasso.score(test_scaled, test_target))\n",
        "\n",
        "plt.plot(np.log10(alpha_list), train_score)\n",
        "plt.plot(np.log10(alpha_list), test_score)\n",
        "plt.xlabel('alpha')\n",
        "plt.ylabel('R^2')\n",
        "plt.show()\n",
        "\n",
        "print(train_score, \"\\n\", test_score)"
      ],
      "execution_count": null,
      "outputs": [
        {
          "output_type": "stream",
          "text": [
            "/usr/local/lib/python3.7/dist-packages/sklearn/linear_model/_coordinate_descent.py:476: ConvergenceWarning: Objective did not converge. You might want to increase the number of iterations. Duality gap: 68371.36027450048, tolerance: 518.2793833333334\n",
            "  positive)\n",
            "/usr/local/lib/python3.7/dist-packages/sklearn/linear_model/_coordinate_descent.py:476: ConvergenceWarning: Objective did not converge. You might want to increase the number of iterations. Duality gap: 60897.25696900669, tolerance: 518.2793833333334\n",
            "  positive)\n",
            "/usr/local/lib/python3.7/dist-packages/sklearn/linear_model/_coordinate_descent.py:476: ConvergenceWarning: Objective did not converge. You might want to increase the number of iterations. Duality gap: 19450.81478042998, tolerance: 518.2793833333334\n",
            "  positive)\n"
          ],
          "name": "stderr"
        },
        {
          "output_type": "display_data",
          "data": {
            "image/png": "[encoded data removed]",
            "text/plain": [
              "<Figure size 432x288 with 1 Axes>"
            ]
          },
          "metadata": {
            "tags": [],
            "needs_background": "light"
          }
        },
        {
          "output_type": "stream",
          "text": [
            "[0.9732647559337357, 0.973245622077268, 0.9728858940077052, 0.9692636157789122, 0.9684606645363231, 0.8880500221451817] \n",
            " [0.9756595783526614, 0.9759957561350031, 0.9787105890743735, 0.9718691066691287, 0.9750054278589299, 0.917866091243881]\n"
          ],
          "name": "stdout"
        }
      ]
    },
    {
      "cell_type": "markdown",
      "metadata": {
        "id": "EYA3ifTn8fmF"
      },
      "source": [
        "lasso는 계수를 0으로도 만들 수 있는 비용 함수를 가지고 있기 때문에 유용한 특성을 골라내는 용도로 사용할 수 있다.\n"
      ]
    },
    {
      "cell_type": "code",
      "metadata": {
        "colab": {
          "base_uri": "https://localhost:8080/"
        },
        "id": "Ut4bL0pO8yYE",
        "outputId": "3000cc6f-7864-4e33-fcae-d115a7a8d9d8"
      },
      "source": [
        "print(np.sum(lasso.coef_ == 0)) # 계수가 0이된 특성의 개수"
      ],
      "execution_count": null,
      "outputs": [
        {
          "output_type": "stream",
          "text": [
            "4\n"
          ],
          "name": "stdout"
        }
      ]
    }
  ]
}