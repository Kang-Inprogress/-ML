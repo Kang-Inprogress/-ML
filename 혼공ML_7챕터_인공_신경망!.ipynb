{
  "nbformat": 4,
  "nbformat_minor": 0,
  "metadata": {
    "colab": {
      "name": "혼공ML 7챕터: 인공 신경망!",
      "provenance": [],
      "authorship_tag": "ABX9TyOw3hytARv3oNT1GIbWQV77",
      "include_colab_link": true
    },
    "kernelspec": {
      "name": "python3",
      "display_name": "Python 3"
    },
    "language_info": {
      "name": "python"
    },
    "accelerator": "GPU"
  },
  "cells": [
    {
      "cell_type": "markdown",
      "metadata": {
        "id": "view-in-github",
        "colab_type": "text"
      },
      "source": [
        "<a href=\"https://colab.research.google.com/github/Kang-Inprogress/-ML/blob/main/%ED%98%BC%EA%B3%B5ML_7%EC%B1%95%ED%84%B0_%EC%9D%B8%EA%B3%B5_%EC%8B%A0%EA%B2%BD%EB%A7%9D!.ipynb\" target=\"_parent\"><img src=\"https://colab.research.google.com/assets/colab-badge.svg\" alt=\"Open In Colab\"/></a>"
      ]
    },
    {
      "cell_type": "markdown",
      "metadata": {
        "id": "1SBfWvGFT5fR"
      },
      "source": [
        "[7-1] p.340"
      ]
    },
    {
      "cell_type": "code",
      "metadata": {
        "id": "DVMhmnt7T1I5",
        "colab": {
          "base_uri": "https://localhost:8080/"
        },
        "outputId": "8674ffe2-d415-44ad-aa12-8f181963afd2"
      },
      "source": [
        "# 데이터 준비\n",
        "from tensorflow import keras\n",
        "\n",
        "(train_input, train_target), (test_input, test_target) = keras.datasets.fashion_mnist.load_data()\n",
        "# shape: (60000, 28, 28)"
      ],
      "execution_count": 4,
      "outputs": [
        {
          "output_type": "stream",
          "text": [
            "Downloading data from https://storage.googleapis.com/tensorflow/tf-keras-datasets/train-labels-idx1-ubyte.gz\n",
            "32768/29515 [=================================] - 0s 0us/step\n",
            "Downloading data from https://storage.googleapis.com/tensorflow/tf-keras-datasets/train-images-idx3-ubyte.gz\n",
            "26427392/26421880 [==============================] - 0s 0us/step\n",
            "Downloading data from https://storage.googleapis.com/tensorflow/tf-keras-datasets/t10k-labels-idx1-ubyte.gz\n",
            "8192/5148 [===============================================] - 0s 0us/step\n",
            "Downloading data from https://storage.googleapis.com/tensorflow/tf-keras-datasets/t10k-images-idx3-ubyte.gz\n",
            "4423680/4422102 [==============================] - 0s 0us/step\n"
          ],
          "name": "stdout"
        }
      ]
    },
    {
      "cell_type": "markdown",
      "metadata": {
        "id": "savQgrypA9DA"
      },
      "source": [
        "딥러닝과 비교하기 위한 **SGD**"
      ]
    },
    {
      "cell_type": "code",
      "metadata": {
        "id": "v0Rt_nGvPpun"
      },
      "source": [
        "rain_scaled = train_input / 255.0\n",
        "train_scaled = train_scaled.reshape(-1, 28*28)"
      ],
      "execution_count": 6,
      "outputs": []
    },
    {
      "cell_type": "code",
      "metadata": {
        "id": "3rOxP7OP9H7n"
      },
      "source": [
        "from sklearn.model_selection import cross_validate\n",
        "from sklearn.linear_model import SGDClassifier\n",
        "\n",
        "sc = SGDClassifier(loss=\"log\", max_iter=5, random_state=42) # loss가 log함수인 이유는 0~1로 표현하려고 하기 때문임. 분류에서 사용됨\n",
        "scores = cross_validate(sc, train_scaled, train_target, n_jobs=-1)\n"
      ],
      "execution_count": null,
      "outputs": []
    },
    {
      "cell_type": "code",
      "metadata": {
        "id": "-dJ_YHTt-8v0"
      },
      "source": [
        "import numpy as np\n",
        "print(np.mean(scores[\"test_score\"]))"
      ],
      "execution_count": null,
      "outputs": []
    },
    {
      "cell_type": "markdown",
      "metadata": {
        "id": "gAdxZOaxBDd4"
      },
      "source": [
        "딥러닝.\n",
        "인공 신경망은 경사 하강법을 사용한 로지스틱 회귀 모델과 거의 비슷하다"
      ]
    },
    {
      "cell_type": "code",
      "metadata": {
        "id": "x-IDFpFkBDFf"
      },
      "source": [
        "import tensorflow as tf\n",
        "from tensorflow import keras\n",
        "from sklearn.model_selection import train_test_split\n",
        "\n",
        "train_scaled, val_scaled, train_target, val_target = train_test_split(train_scaled, train_target, test_size=0.2, random_state=42)\n",
        "\n",
        "# 모델 설정\n",
        "dense = keras.layers.Dense(10, activation=\"softmax\", input_shape=(784, )) # 뉴런의 선형 방정식 계산 결과에 적용되는 함수를 활성화함수라고 한다\n",
        "model = keras.Sequential(dense)"
      ],
      "execution_count": 7,
      "outputs": []
    },
    {
      "cell_type": "markdown",
      "metadata": {
        "id": "pz5C3iSDM1K6"
      },
      "source": [
        "인공 신경망 손실 함수\n",
        "* binary_crossentropy\n",
        "* categorical_crossentropy\n",
        "* "
      ]
    },
    {
      "cell_type": "code",
      "metadata": {
        "colab": {
          "base_uri": "https://localhost:8080/"
        },
        "id": "V_sEAa6KPVDh",
        "outputId": "4e26fabd-7490-48f9-d1df-04e477445bbc"
      },
      "source": [
        "model.compile(loss=\"sparse_categorical_crossentropy\", metrics=\"accuracy\")\n",
        "# sparse_categorical_crossentropy: 다중 분류 손실함수. 빽빽한 배열(원 핫 코딩)말고 정수값으로 사용한다는 뜻에서 sparse(희소)\n",
        "# metrics는 케라스에서 epoch마다 손실 값을 출력해주는데 이것과 정확도(accuracy)를 출력해준다.\n",
        "\n",
        "# 모델 훈련\n",
        "model.fit(train_scaled, train_target, epochs=5)"
      ],
      "execution_count": 8,
      "outputs": [
        {
          "output_type": "stream",
          "text": [
            "Epoch 1/5\n",
            "1500/1500 [==============================] - 5s 2ms/step - loss: 0.6070 - accuracy: 0.7939\n",
            "Epoch 2/5\n",
            "1500/1500 [==============================] - 3s 2ms/step - loss: 0.4779 - accuracy: 0.8386\n",
            "Epoch 3/5\n",
            "1500/1500 [==============================] - 3s 2ms/step - loss: 0.4556 - accuracy: 0.8481\n",
            "Epoch 4/5\n",
            "1500/1500 [==============================] - 3s 2ms/step - loss: 0.4437 - accuracy: 0.8519\n",
            "Epoch 5/5\n",
            "1500/1500 [==============================] - 3s 2ms/step - loss: 0.4366 - accuracy: 0.8557\n"
          ],
          "name": "stdout"
        },
        {
          "output_type": "execute_result",
          "data": {
            "text/plain": [
              "<tensorflow.python.keras.callbacks.History at 0x7f3f88105210>"
            ]
          },
          "metadata": {
            "tags": []
          },
          "execution_count": 8
        }
      ]
    },
    {
      "cell_type": "code",
      "metadata": {
        "colab": {
          "base_uri": "https://localhost:8080/"
        },
        "id": "XW3lBJ80R_Ll",
        "outputId": "dcd637f7-0749-4f93-d835-a043f6a02137"
      },
      "source": [
        "# 모델 평가(검증 세트의 값이 훈련 세트의 값보다 약간 낮아도 ok)\n",
        "model.evaluate(val_scaled, val_target)"
      ],
      "execution_count": 9,
      "outputs": [
        {
          "output_type": "stream",
          "text": [
            "375/375 [==============================] - 1s 2ms/step - loss: 0.4441 - accuracy: 0.8514\n"
          ],
          "name": "stdout"
        },
        {
          "output_type": "execute_result",
          "data": {
            "text/plain": [
              "[0.44405558705329895, 0.8514166474342346]"
            ]
          },
          "metadata": {
            "tags": []
          },
          "execution_count": 9
        }
      ]
    }
  ]
}