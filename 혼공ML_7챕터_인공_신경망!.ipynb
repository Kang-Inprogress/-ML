{
  "nbformat": 4,
  "nbformat_minor": 0,
  "metadata": {
    "colab": {
      "name": "혼공ML 7챕터: 인공 신경망!",
      "provenance": [],
      "collapsed_sections": [],
      "authorship_tag": "ABX9TyMPz8NwFYFFF2VE38gVPdTk",
      "include_colab_link": true
    },
    "kernelspec": {
      "name": "python3",
      "display_name": "Python 3"
    },
    "language_info": {
      "name": "python"
    },
    "accelerator": "GPU"
  },
  "cells": [
    {
      "cell_type": "markdown",
      "metadata": {
        "id": "view-in-github",
        "colab_type": "text"
      },
      "source": [
        "<a href=\"https://colab.research.google.com/github/Kang-Inprogress/-ML/blob/main/%ED%98%BC%EA%B3%B5ML_7%EC%B1%95%ED%84%B0_%EC%9D%B8%EA%B3%B5_%EC%8B%A0%EA%B2%BD%EB%A7%9D!.ipynb\" target=\"_parent\"><img src=\"https://colab.research.google.com/assets/colab-badge.svg\" alt=\"Open In Colab\"/></a>"
      ]
    },
    {
      "cell_type": "markdown",
      "metadata": {
        "id": "1SBfWvGFT5fR"
      },
      "source": [
        "[7-1] p.340"
      ]
    },
    {
      "cell_type": "code",
      "metadata": {
        "id": "DVMhmnt7T1I5",
        "colab": {
          "base_uri": "https://localhost:8080/"
        },
        "outputId": "9b764d99-5735-490c-f9b2-dfe1eb126d37"
      },
      "source": [
        "# 데이터 준비\n",
        "from tensorflow import keras\n",
        "\n",
        "(train_input, train_target), (test_input, test_target) = keras.datasets.fashion_mnist.load_data()\n",
        "# shape: (60000, 28, 28)"
      ],
      "execution_count": null,
      "outputs": [
        {
          "output_type": "stream",
          "text": [
            "Downloading data from https://storage.googleapis.com/tensorflow/tf-keras-datasets/train-labels-idx1-ubyte.gz\n",
            "32768/29515 [=================================] - 0s 0us/step\n",
            "Downloading data from https://storage.googleapis.com/tensorflow/tf-keras-datasets/train-images-idx3-ubyte.gz\n",
            "26427392/26421880 [==============================] - 0s 0us/step\n",
            "Downloading data from https://storage.googleapis.com/tensorflow/tf-keras-datasets/t10k-labels-idx1-ubyte.gz\n",
            "8192/5148 [===============================================] - 0s 0us/step\n",
            "Downloading data from https://storage.googleapis.com/tensorflow/tf-keras-datasets/t10k-images-idx3-ubyte.gz\n",
            "4423680/4422102 [==============================] - 0s 0us/step\n"
          ],
          "name": "stdout"
        }
      ]
    },
    {
      "cell_type": "markdown",
      "metadata": {
        "id": "savQgrypA9DA"
      },
      "source": [
        "딥러닝과 비교하기 위한 **SGD**"
      ]
    },
    {
      "cell_type": "code",
      "metadata": {
        "id": "v0Rt_nGvPpun"
      },
      "source": [
        "from sklearn.model_selection import train_test_split\n",
        "\n",
        "train_scaled = train_input / 255.0\n",
        "train_scaled = train_scaled.reshape(-1, 28*28)\n",
        "# 훈련/검증 세트로 나눔\n",
        "train_scaled, val_scaled, train_target, val_target = train_test_split(train_scaled, train_target, test_size=0.2, random_state=42)"
      ],
      "execution_count": null,
      "outputs": []
    },
    {
      "cell_type": "code",
      "metadata": {
        "id": "3rOxP7OP9H7n"
      },
      "source": [
        "from sklearn.model_selection import cross_validate\n",
        "from sklearn.linear_model import SGDClassifier\n",
        "\n",
        "sc = SGDClassifier(loss=\"log\", max_iter=5, random_state=42) # loss가 log함수인 이유는 0~1로 표현하려고 하기 때문임. 분류에서 사용됨\n",
        "scores = cross_validate(sc, train_scaled, train_target, n_jobs=-1)\n"
      ],
      "execution_count": null,
      "outputs": []
    },
    {
      "cell_type": "code",
      "metadata": {
        "id": "-dJ_YHTt-8v0"
      },
      "source": [
        "import numpy as np\n",
        "print(np.mean(scores[\"test_score\"]))"
      ],
      "execution_count": null,
      "outputs": []
    },
    {
      "cell_type": "markdown",
      "metadata": {
        "id": "gAdxZOaxBDd4"
      },
      "source": [
        "딥러닝.\n",
        "인공 신경망은 경사 하강법을 사용한 로지스틱 회귀 모델과 거의 비슷하다"
      ]
    },
    {
      "cell_type": "code",
      "metadata": {
        "id": "x-IDFpFkBDFf"
      },
      "source": [
        "import tensorflow as tf\n",
        "from tensorflow import keras\n",
        "\n",
        "# 모델 설정\n",
        "dense = keras.layers.Dense(10, activation=\"softmax\", input_shape=(784, )) # 뉴런의 선형 방정식 계산 결과에 적용되는 함수를 활성화함수라고 한다\n",
        "model = keras.Sequential(dense)"
      ],
      "execution_count": null,
      "outputs": []
    },
    {
      "cell_type": "markdown",
      "metadata": {
        "id": "pz5C3iSDM1K6"
      },
      "source": [
        "인공 신경망 손실 함수\n",
        "* binary_crossentropy\n",
        "* categorical_crossentropy\n",
        "* sparse_categorical_crossentropy\n",
        "\n",
        "등등..\n"
      ]
    },
    {
      "cell_type": "code",
      "metadata": {
        "colab": {
          "base_uri": "https://localhost:8080/"
        },
        "id": "V_sEAa6KPVDh",
        "outputId": "4e26fabd-7490-48f9-d1df-04e477445bbc"
      },
      "source": [
        "model.compile(loss=\"sparse_categorical_crossentropy\", metrics=\"accuracy\")\n",
        "# sparse_categorical_crossentropy: 다중 분류 손실함수. 빽빽한 배열(원 핫 코딩)말고 정수값으로 사용한다는 뜻에서 sparse(희소)\n",
        "# metrics는 측정 지표이다. 케라스에서 epoch마다 손실 값을 출력해주는데 이것과 정확도(accuracy)를 출력해준다.\n",
        "\n",
        "# 모델 훈련\n",
        "model.fit(train_scaled, train_target, epochs=5)"
      ],
      "execution_count": null,
      "outputs": [
        {
          "output_type": "stream",
          "text": [
            "Epoch 1/5\n",
            "1500/1500 [==============================] - 5s 2ms/step - loss: 0.6070 - accuracy: 0.7939\n",
            "Epoch 2/5\n",
            "1500/1500 [==============================] - 3s 2ms/step - loss: 0.4779 - accuracy: 0.8386\n",
            "Epoch 3/5\n",
            "1500/1500 [==============================] - 3s 2ms/step - loss: 0.4556 - accuracy: 0.8481\n",
            "Epoch 4/5\n",
            "1500/1500 [==============================] - 3s 2ms/step - loss: 0.4437 - accuracy: 0.8519\n",
            "Epoch 5/5\n",
            "1500/1500 [==============================] - 3s 2ms/step - loss: 0.4366 - accuracy: 0.8557\n"
          ],
          "name": "stdout"
        },
        {
          "output_type": "execute_result",
          "data": {
            "text/plain": [
              "<tensorflow.python.keras.callbacks.History at 0x7f3f88105210>"
            ]
          },
          "metadata": {
            "tags": []
          },
          "execution_count": 8
        }
      ]
    },
    {
      "cell_type": "code",
      "metadata": {
        "colab": {
          "base_uri": "https://localhost:8080/"
        },
        "id": "XW3lBJ80R_Ll",
        "outputId": "dcd637f7-0749-4f93-d835-a043f6a02137"
      },
      "source": [
        "# 모델 평가(검증 세트의 값이 훈련 세트의 값보다 약간 낮아도 ok)\n",
        "model.evaluate(val_scaled, val_target)"
      ],
      "execution_count": null,
      "outputs": [
        {
          "output_type": "stream",
          "text": [
            "375/375 [==============================] - 1s 2ms/step - loss: 0.4441 - accuracy: 0.8514\n"
          ],
          "name": "stdout"
        },
        {
          "output_type": "execute_result",
          "data": {
            "text/plain": [
              "[0.44405558705329895, 0.8514166474342346]"
            ]
          },
          "metadata": {
            "tags": []
          },
          "execution_count": 9
        }
      ]
    },
    {
      "cell_type": "markdown",
      "metadata": {
        "id": "24PKLEgEF84P"
      },
      "source": [
        "# 심층 신경망"
      ]
    },
    {
      "cell_type": "code",
      "metadata": {
        "id": "HFDz81Vv-TRm"
      },
      "source": [
        "import tensorflow as tf\n",
        "from tensorflow import keras\n",
        "\n",
        "dense1 = keras.layers.Dense(100, activation=\"sigmoid\", input_shape=(784, ))\n",
        "dense2 = keras.layers.Dense(100, activation=\"sigmoid\")\n",
        "dense_o = keras.layers.Dense(10, activation=\"softmax\") # 출력층"
      ],
      "execution_count": null,
      "outputs": []
    },
    {
      "cell_type": "code",
      "metadata": {
        "id": "3dAyAl1I-tXL"
      },
      "source": [
        "# 층 추가방법1\n",
        "# model = keras.Sequential([dense1, dense_o])\n",
        "\n",
        "# 층 추가방법2\n",
        "model = keras.Sequential()\n",
        "model.add(dense1)\n",
        "model.add(dense2)\n",
        "model.add(dense_o)\n",
        "\n",
        "# 모델 정보\n",
        "# model.summary() "
      ],
      "execution_count": null,
      "outputs": []
    },
    {
      "cell_type": "code",
      "metadata": {
        "colab": {
          "base_uri": "https://localhost:8080/"
        },
        "id": "46J8C009ENiK",
        "outputId": "a278e0c3-21a9-4396-9f5a-21875b4fca15"
      },
      "source": [
        "model.compile(loss=\"sparse_categorical_crossentropy\", metrics=\"accuracy\")\n",
        "model.fit(train_scaled, train_target, epochs=20)"
      ],
      "execution_count": null,
      "outputs": [
        {
          "output_type": "stream",
          "text": [
            "Epoch 1/20\n",
            "1500/1500 [==============================] - 4s 2ms/step - loss: 0.6422 - accuracy: 0.7792\n",
            "Epoch 2/20\n",
            "1500/1500 [==============================] - 3s 2ms/step - loss: 0.4118 - accuracy: 0.8508\n",
            "Epoch 3/20\n",
            "1500/1500 [==============================] - 3s 2ms/step - loss: 0.3744 - accuracy: 0.8634\n",
            "Epoch 4/20\n",
            "1500/1500 [==============================] - 3s 2ms/step - loss: 0.3514 - accuracy: 0.8716\n",
            "Epoch 5/20\n",
            "1500/1500 [==============================] - 3s 2ms/step - loss: 0.3344 - accuracy: 0.8783\n",
            "Epoch 6/20\n",
            "1500/1500 [==============================] - 3s 2ms/step - loss: 0.3200 - accuracy: 0.8831\n",
            "Epoch 7/20\n",
            "1500/1500 [==============================] - 3s 2ms/step - loss: 0.3086 - accuracy: 0.8877\n",
            "Epoch 8/20\n",
            "1500/1500 [==============================] - 3s 2ms/step - loss: 0.2982 - accuracy: 0.8913\n",
            "Epoch 9/20\n",
            "1500/1500 [==============================] - 3s 2ms/step - loss: 0.2896 - accuracy: 0.8942\n",
            "Epoch 10/20\n",
            "1500/1500 [==============================] - 3s 2ms/step - loss: 0.2809 - accuracy: 0.8973\n",
            "Epoch 11/20\n",
            "1500/1500 [==============================] - 3s 2ms/step - loss: 0.2737 - accuracy: 0.8995\n",
            "Epoch 12/20\n",
            "1500/1500 [==============================] - 3s 2ms/step - loss: 0.2678 - accuracy: 0.9019\n",
            "Epoch 13/20\n",
            "1500/1500 [==============================] - 3s 2ms/step - loss: 0.2603 - accuracy: 0.9041\n",
            "Epoch 14/20\n",
            "1500/1500 [==============================] - 3s 2ms/step - loss: 0.2539 - accuracy: 0.9066\n",
            "Epoch 15/20\n",
            "1500/1500 [==============================] - 3s 2ms/step - loss: 0.2479 - accuracy: 0.9096\n",
            "Epoch 16/20\n",
            "1500/1500 [==============================] - 3s 2ms/step - loss: 0.2435 - accuracy: 0.9110\n",
            "Epoch 17/20\n",
            "1500/1500 [==============================] - 3s 2ms/step - loss: 0.2382 - accuracy: 0.9133\n",
            "Epoch 18/20\n",
            "1500/1500 [==============================] - 3s 2ms/step - loss: 0.2324 - accuracy: 0.9159\n",
            "Epoch 19/20\n",
            "1500/1500 [==============================] - 3s 2ms/step - loss: 0.2282 - accuracy: 0.9169\n",
            "Epoch 20/20\n",
            "1500/1500 [==============================] - 3s 2ms/step - loss: 0.2237 - accuracy: 0.9166\n"
          ],
          "name": "stdout"
        },
        {
          "output_type": "execute_result",
          "data": {
            "text/plain": [
              "<tensorflow.python.keras.callbacks.History at 0x7fb8a6514110>"
            ]
          },
          "metadata": {
            "tags": []
          },
          "execution_count": 22
        }
      ]
    },
    {
      "cell_type": "code",
      "metadata": {
        "colab": {
          "base_uri": "https://localhost:8080/"
        },
        "id": "55gIbIoIN-Jt",
        "outputId": "cd53babf-7b7d-4942-94b8-2e05e94597c7"
      },
      "source": [
        "model.evaluate(val_scaled, val_target)"
      ],
      "execution_count": null,
      "outputs": [
        {
          "output_type": "stream",
          "text": [
            "375/375 [==============================] - 1s 2ms/step - loss: 0.3196 - accuracy: 0.8898\n"
          ],
          "name": "stdout"
        },
        {
          "output_type": "execute_result",
          "data": {
            "text/plain": [
              "[0.31964191794395447, 0.8897500038146973]"
            ]
          },
          "metadata": {
            "tags": []
          },
          "execution_count": 23
        }
      ]
    },
    {
      "cell_type": "markdown",
      "metadata": {
        "id": "DPsHcOxLFVj0"
      },
      "source": [
        "ReLU 함수\n",
        "\n",
        "초창기에 많이 사용되던 시그모이드 함수는 그래프가 양 끝단에는 누워있기 때문에 올바른 출력을 만드는데 신속하게 대응하지 못했다(음수일 경우 끝도없이 음수에 가깝게 진행된다. 이것은 깊은 신경망일수록 심하다).\n",
        "\n",
        "렐루 함수는 간단히 이를 해결했다. 입력이 양수일 경우에는 활성화 함수가 없는것처럼 입력을 통과시키고, 음수일 경우에는 0으로 만들었다. 이는 이미지 처리에 좋은 성능을 낸다.\n",
        "\n",
        "Dense에서 activation=\"relu\" 파라미터 입력으로 사용가능"
      ]
    },
    {
      "cell_type": "code",
      "metadata": {
        "id": "-P89bG48Goks"
      },
      "source": [
        "import tensorflow as tf\n",
        "from tensorflow import keras\n",
        "\n",
        "model = keras.Sequential()\n",
        "model.add(keras.layers.Flatten(input_shape=(28, 28))) # 전처리과정을 넣어준 것\n",
        "model.add(keras.layers.Dense(100, activation=\"relu\"))\n",
        "model.add(keras.layers.Dense(10, activation=\"softmax\"))"
      ],
      "execution_count": null,
      "outputs": []
    },
    {
      "cell_type": "markdown",
      "metadata": {
        "id": "-Q2zKkcRH8ON"
      },
      "source": [
        "# `옵티마이저`\n",
        "심층 신경망에서 하이퍼파라미터는 은닉층의 개수, 활성화 함수, 은닉층의 뉴런 개수, batch_size를 조정할 수 있으며 이것도 하이퍼파라미터(keras 기본 32개), 에포크 개수 등 여러가지 옵션들이 있다.\n",
        "\n",
        "model.compile에 optimizer 변수도 하이퍼파라미터이다(기본은 경사 하강법 알고리즘인 RMSprop).\n",
        "model.compile(optimizer=sgd, loss=\"sparse_categorical_crossentropy\", metrics=\"accuracy\")로 설정해볼 수 있다(**sgd는 keras.optimizers.SGD() 객체**로 optimizer=\"sgd\"를 하면 자동생성된다.).\n",
        "+ SGD 옵티마이저 세팅으로 momentum에 값을 주면 모멘텀이 활성화되고, nesterov=True로 값을 설정하면 네스테로프 모멘텀 최적화가 활성화 된다. 모멘텀 최적화가 2번 반복하여 구현된다.\n",
        "+ "
      ]
    },
    {
      "cell_type": "markdown",
      "metadata": {
        "id": "PwX4MXPjiorX"
      },
      "source": [
        "# 신경망 모델 훈련"
      ]
    },
    {
      "cell_type": "markdown",
      "metadata": {
        "id": "MKlG0GTMiuAB"
      },
      "source": [
        ""
      ]
    },
    {
      "cell_type": "code",
      "metadata": {
        "id": "z8hJkS80Lroy"
      },
      "source": [
        "def model_fn(a_layer=None):\n",
        "  model = keras.Sequential()\n",
        "  model.add(keras.layers.Flatten(input_shape=(28,28)))\n",
        "  model.add(keras.layers.Dense(100, activation=\"relu\"))\n",
        "  if a_layer:\n",
        "    model.add(a_layer)\n",
        "  model.add(keras.layers.Dense(10, activation=\"softmax\"))\n",
        "  return model"
      ],
      "execution_count": null,
      "outputs": []
    },
    {
      "cell_type": "code",
      "metadata": {
        "colab": {
          "base_uri": "https://localhost:8080/"
        },
        "id": "iltrtjhYjlZa",
        "outputId": "2bb0753f-43ee-4b76-c92d-27291ee6f1d1"
      },
      "source": [
        "model = model_fn()\n",
        "\n",
        "model.compile(loss=\"sparse_categorical_crossentropy\", metrics=\"accuracy\")\n",
        "history = model.fit(train_scaled, train_target, epochs=20, verbose=0)\n",
        "# 훈련 측정값이 담겨 있는 딕셔너리. 손실과 정확도가 포함되어 있다.\n",
        "# print(history.history.keys())"
      ],
      "execution_count": null,
      "outputs": [
        {
          "output_type": "stream",
          "text": [
            "WARNING:tensorflow:Model was constructed with shape (None, 28, 28) for input KerasTensor(type_spec=TensorSpec(shape=(None, 28, 28), dtype=tf.float32, name='flatten_1_input'), name='flatten_1_input', description=\"created by layer 'flatten_1_input'\"), but it was called on an input with incompatible shape (32, 784).\n",
            "WARNING:tensorflow:Model was constructed with shape (None, 28, 28) for input KerasTensor(type_spec=TensorSpec(shape=(None, 28, 28), dtype=tf.float32, name='flatten_1_input'), name='flatten_1_input', description=\"created by layer 'flatten_1_input'\"), but it was called on an input with incompatible shape (32, 784).\n"
          ],
          "name": "stdout"
        }
      ]
    },
    {
      "cell_type": "code",
      "metadata": {
        "colab": {
          "base_uri": "https://localhost:8080/",
          "height": 541
        },
        "id": "fcdAca-OkI8Q",
        "outputId": "f17383ad-8f8a-4316-95ea-7290e6daf652"
      },
      "source": [
        "# epoch마다 손실값을 그래프로 그렸다\n",
        "import matplotlib.pyplot as plt\n",
        "\n",
        "plt.plot(history.history[\"loss\"])\n",
        "plt.xlabel(\"epoch\")\n",
        "plt.ylabel(\"loss\")\n",
        "plt.show()\n",
        "\n",
        "# epoch마다 정확도를 그래프로 그렸다\n",
        "plt.plot(history.history[\"accuracy\"])\n",
        "plt.xlabel(\"epoch\")\n",
        "plt.ylabel(\"accuracy\")\n",
        "plt.show()"
      ],
      "execution_count": null,
      "outputs": [
        {
          "output_type": "display_data",
          "data": {
            "image/png": "[encoded data removed]",
            "text/plain": [
              "<Figure size 432x288 with 1 Axes>"
            ]
          },
          "metadata": {
            "tags": [],
            "needs_background": "light"
          }
        },
        {
          "output_type": "display_data",
          "data": {
            "image/png": "[encoded data removed]",
            "text/plain": [
              "<Figure size 432x288 with 1 Axes>"
            ]
          },
          "metadata": {
            "tags": [],
            "needs_background": "light"
          }
        }
      ]
    },
    {
      "cell_type": "code",
      "metadata": {
        "colab": {
          "base_uri": "https://localhost:8080/"
        },
        "id": "voN3zXohksXc",
        "outputId": "b25a4d97-fd08-4afb-f3fb-0868cf59b533"
      },
      "source": [
        "model = model_fn()\n",
        "model.compile(loss=\"sparse_categorical_crossentropy\", metrics=\"accuracy\")\n",
        "history = model.fit(train_scaled, train_target, epochs=20, verbose=0, validation_data=(val_scaled, val_target))\n",
        "print(history.history.keys())"
      ],
      "execution_count": null,
      "outputs": [
        {
          "output_type": "stream",
          "text": [
            "WARNING:tensorflow:Model was constructed with shape (None, 28, 28) for input KerasTensor(type_spec=TensorSpec(shape=(None, 28, 28), dtype=tf.float32, name='flatten_2_input'), name='flatten_2_input', description=\"created by layer 'flatten_2_input'\"), but it was called on an input with incompatible shape (32, 784).\n",
            "WARNING:tensorflow:Model was constructed with shape (None, 28, 28) for input KerasTensor(type_spec=TensorSpec(shape=(None, 28, 28), dtype=tf.float32, name='flatten_2_input'), name='flatten_2_input', description=\"created by layer 'flatten_2_input'\"), but it was called on an input with incompatible shape (32, 784).\n",
            "WARNING:tensorflow:Model was constructed with shape (None, 28, 28) for input KerasTensor(type_spec=TensorSpec(shape=(None, 28, 28), dtype=tf.float32, name='flatten_2_input'), name='flatten_2_input', description=\"created by layer 'flatten_2_input'\"), but it was called on an input with incompatible shape (32, 784).\n",
            "dict_keys(['loss', 'accuracy', 'val_loss', 'val_accuracy'])\n"
          ],
          "name": "stdout"
        }
      ]
    },
    {
      "cell_type": "code",
      "metadata": {
        "colab": {
          "base_uri": "https://localhost:8080/",
          "height": 279
        },
        "id": "w5mPnAVcmTmS",
        "outputId": "22edb447-8848-45b3-c58e-d24997f8224e"
      },
      "source": [
        "plt.plot(history.history[\"loss\"])\n",
        "plt.plot(history.history[\"val_loss\"])\n",
        "plt.xlabel(\"epoch\")\n",
        "plt.ylabel(\"loss\")\n",
        "plt.legend([\"train\", \"val\"])\n",
        "plt.show()"
      ],
      "execution_count": null,
      "outputs": [
        {
          "output_type": "display_data",
          "data": {
            "image/png": "[encoded data removed]",
            "text/plain": [
              "<Figure size 432x288 with 1 Axes>"
            ]
          },
          "metadata": {
            "tags": [],
            "needs_background": "light"
          }
        }
      ]
    },
    {
      "cell_type": "markdown",
      "metadata": {
        "id": "cdn5-1TMnUSh"
      },
      "source": [
        "옵티마이저변경(RMSprop(기본값) -> Adam)\n",
        "\n"
      ]
    },
    {
      "cell_type": "code",
      "metadata": {
        "colab": {
          "base_uri": "https://localhost:8080/"
        },
        "id": "Z0Y4osrTnSP9",
        "outputId": "c8a5e8fb-6181-43e1-b515-faffcd268f9f"
      },
      "source": [
        "model = model_fn()\n",
        "model.compile(optimizer=\"Adam\", loss=\"sparse_categorical_crossentropy\", metrics=\"accuracy\")\n",
        "history = model.fit(train_scaled, train_target, epochs=20, verbose=0, validation_data=(val_scaled, val_target))\n",
        "print(history.history.keys())"
      ],
      "execution_count": null,
      "outputs": [
        {
          "output_type": "stream",
          "text": [
            "WARNING:tensorflow:Model was constructed with shape (None, 28, 28) for input KerasTensor(type_spec=TensorSpec(shape=(None, 28, 28), dtype=tf.float32, name='flatten_3_input'), name='flatten_3_input', description=\"created by layer 'flatten_3_input'\"), but it was called on an input with incompatible shape (32, 784).\n",
            "WARNING:tensorflow:Model was constructed with shape (None, 28, 28) for input KerasTensor(type_spec=TensorSpec(shape=(None, 28, 28), dtype=tf.float32, name='flatten_3_input'), name='flatten_3_input', description=\"created by layer 'flatten_3_input'\"), but it was called on an input with incompatible shape (32, 784).\n",
            "WARNING:tensorflow:Model was constructed with shape (None, 28, 28) for input KerasTensor(type_spec=TensorSpec(shape=(None, 28, 28), dtype=tf.float32, name='flatten_3_input'), name='flatten_3_input', description=\"created by layer 'flatten_3_input'\"), but it was called on an input with incompatible shape (32, 784).\n",
            "dict_keys(['loss', 'accuracy', 'val_loss', 'val_accuracy'])\n"
          ],
          "name": "stdout"
        }
      ]
    },
    {
      "cell_type": "code",
      "metadata": {
        "colab": {
          "base_uri": "https://localhost:8080/",
          "height": 279
        },
        "id": "Ycsm85DxnjxT",
        "outputId": "14aa20d4-f684-4998-d2e4-1523d1e5a39a"
      },
      "source": [
        "plt.plot(history.history[\"loss\"])\n",
        "plt.plot(history.history[\"val_loss\"])\n",
        "plt.xlabel(\"epoch\")\n",
        "plt.ylabel(\"loss\")\n",
        "plt.legend([\"train\", \"val\"])\n",
        "plt.show()\n",
        "# 옵티마이저를 변경하니까 검증세트의 에포크 진행에 따른 손실이 조금 줄어들었다"
      ],
      "execution_count": null,
      "outputs": [
        {
          "output_type": "display_data",
          "data": {
            "image/png": "[encoded data removed]",
            "text/plain": [
              "<Figure size 432x288 with 1 Axes>"
            ]
          },
          "metadata": {
            "tags": [],
            "needs_background": "light"
          }
        }
      ]
    },
    {
      "cell_type": "markdown",
      "metadata": {
        "id": "WC1S9n1dn-Fx"
      },
      "source": [
        "**DropOut**"
      ]
    },
    {
      "cell_type": "code",
      "metadata": {
        "colab": {
          "base_uri": "https://localhost:8080/"
        },
        "id": "GMZosvieoERC",
        "outputId": "9e5b8725-5054-4b3c-b4b2-747c3e083dc5"
      },
      "source": [
        "model = model_fn(keras.layers.Dropout(0.3))\n",
        "model.summary()\n",
        "# dropout이라는 층이 생기지만 배열을 건들진 않지만 일부 뉴런의 출력을 0으로 만든다. 당연하지만 뉴런 훈련에서만 사용"
      ],
      "execution_count": null,
      "outputs": [
        {
          "output_type": "stream",
          "text": [
            "Model: \"sequential_4\"\n",
            "_________________________________________________________________\n",
            "Layer (type)                 Output Shape              Param #   \n",
            "=================================================================\n",
            "flatten_4 (Flatten)          (None, 784)               0         \n",
            "_________________________________________________________________\n",
            "dense_8 (Dense)              (None, 100)               78500     \n",
            "_________________________________________________________________\n",
            "dropout (Dropout)            (None, 100)               0         \n",
            "_________________________________________________________________\n",
            "dense_9 (Dense)              (None, 10)                1010      \n",
            "=================================================================\n",
            "Total params: 79,510\n",
            "Trainable params: 79,510\n",
            "Non-trainable params: 0\n",
            "_________________________________________________________________\n"
          ],
          "name": "stdout"
        }
      ]
    },
    {
      "cell_type": "markdown",
      "metadata": {
        "id": "ZMLfB-dgo0v5"
      },
      "source": [
        "**훈련된 모델의 저장**\n",
        "\n",
        "model.save_weights(\"model-weights.h5\")\n",
        "+ 훈련된 모델의 파라미터를 저장하는 메서드\n",
        "+ .h5 확장자는 HDF5포맷이다\n",
        "\n",
        "\n",
        "model.save(\"model-whole.h5\")\n",
        "+ 모델 구조와 모델 파라미터를 함께 저장하는 메서드\n",
        "\n",
        "실행 폴더에 저장된다. !ls -al *.h5\n",
        "\n",
        "model.load_weights(\"model-weights.h5\") \n",
        "+ 모델의 파라미터를 불러오는 메서드\n",
        "+ 모델의 구조가 같은 경우에만 파라미터를 가져와서 사용하는 것이 가능하다\n"
      ]
    },
    {
      "cell_type": "code",
      "metadata": {
        "colab": {
          "base_uri": "https://localhost:8080/"
        },
        "id": "2hofwRU7qpZp",
        "outputId": "382b574a-2c00-4165-c6b4-67aef135e986"
      },
      "source": [
        "import numpy as np\n",
        "\n",
        "val_labels = np.argmax(model.predict(val_scaled), axis=-1)\n",
        "# axis=-1 : 배열의 마지막 차원(여기서는 2차원)에 따라서 최댓값을 고른다\n",
        "print(np.mean(val_labels == val_target))"
      ],
      "execution_count": null,
      "outputs": [
        {
          "output_type": "stream",
          "text": [
            "WARNING:tensorflow:Model was constructed with shape (None, 28, 28) for input KerasTensor(type_spec=TensorSpec(shape=(None, 28, 28), dtype=tf.float32, name='flatten_4_input'), name='flatten_4_input', description=\"created by layer 'flatten_4_input'\"), but it was called on an input with incompatible shape (32, 784).\n",
            "0.07341666666666667\n"
          ],
          "name": "stdout"
        }
      ]
    },
    {
      "cell_type": "markdown",
      "metadata": {
        "id": "04LdsHtavJHj"
      },
      "source": [
        "**Callback**\n",
        "\n",
        "keras.callbacks 패키지아래에 있는 클래스들"
      ]
    },
    {
      "cell_type": "code",
      "metadata": {
        "colab": {
          "base_uri": "https://localhost:8080/"
        },
        "id": "KsiyNECovQou",
        "outputId": "12057ada-1b50-4fa0-f40e-8b5467ac7e4d"
      },
      "source": [
        "model = model_fn(keras.layers.Dropout(0.3))\n",
        "model.compile(optimizer=\"adam\", loss=\"sparse_categorical_crossentropy\", metrics=\"accuracy\")\n",
        "checkpoint_cb = keras.callbacks.ModelCheckpoint(\"best-model.h5\")\n",
        "model.fit(train_scaled, train_target, epochs=15, verbose=0, \n",
        "          validation_data=(val_scaled, val_target), \n",
        "          callbacks=[checkpoint_cb]) # 훈련 후 최상의 검증 점수를 낸 모델이 저장된다(best-model.h5)."
      ],
      "execution_count": null,
      "outputs": [
        {
          "output_type": "stream",
          "text": [
            "WARNING:tensorflow:Model was constructed with shape (None, 28, 28) for input KerasTensor(type_spec=TensorSpec(shape=(None, 28, 28), dtype=tf.float32, name='flatten_5_input'), name='flatten_5_input', description=\"created by layer 'flatten_5_input'\"), but it was called on an input with incompatible shape (32, 784).\n",
            "WARNING:tensorflow:Model was constructed with shape (None, 28, 28) for input KerasTensor(type_spec=TensorSpec(shape=(None, 28, 28), dtype=tf.float32, name='flatten_5_input'), name='flatten_5_input', description=\"created by layer 'flatten_5_input'\"), but it was called on an input with incompatible shape (32, 784).\n",
            "WARNING:tensorflow:Model was constructed with shape (None, 28, 28) for input KerasTensor(type_spec=TensorSpec(shape=(None, 28, 28), dtype=tf.float32, name='flatten_5_input'), name='flatten_5_input', description=\"created by layer 'flatten_5_input'\"), but it was called on an input with incompatible shape (32, 784).\n"
          ],
          "name": "stdout"
        },
        {
          "output_type": "execute_result",
          "data": {
            "text/plain": [
              "<tensorflow.python.keras.callbacks.History at 0x7fa5ebedc350>"
            ]
          },
          "metadata": {
            "tags": []
          },
          "execution_count": 21
        }
      ]
    },
    {
      "cell_type": "code",
      "metadata": {
        "colab": {
          "base_uri": "https://localhost:8080/"
        },
        "id": "WPHtlsFpwIBx",
        "outputId": "eb9c5cb9-0456-416a-a1cd-8c8cc6492b36"
      },
      "source": [
        "# 모델 불러와서 점수 확인하기\n",
        "model = keras.models.load_model(\"best-model.h5\")\n",
        "model.evaluate(val_scaled, val_target)"
      ],
      "execution_count": null,
      "outputs": [
        {
          "output_type": "stream",
          "text": [
            "WARNING:tensorflow:Model was constructed with shape (None, 28, 28) for input KerasTensor(type_spec=TensorSpec(shape=(None, 28, 28), dtype=tf.float32, name='flatten_5_input'), name='flatten_5_input', description=\"created by layer 'flatten_5_input'\"), but it was called on an input with incompatible shape (32, 784).\n",
            "375/375 [==============================] - 1s 2ms/step - loss: 0.3262 - accuracy: 0.8833\n"
          ],
          "name": "stdout"
        },
        {
          "output_type": "execute_result",
          "data": {
            "text/plain": [
              "[0.32624801993370056, 0.8833333253860474]"
            ]
          },
          "metadata": {
            "tags": []
          },
          "execution_count": 22
        }
      ]
    },
    {
      "cell_type": "markdown",
      "metadata": {
        "id": "98J01h95wjzQ"
      },
      "source": [
        "# 조기 종료\n",
        "\n",
        "**early stopping**\n",
        "\n",
        "> early_stopping_cb = keras.callbacks.EarlyStopping(patience=2, restore_best_weights=True)\n",
        "\n",
        "명령으로 설정할 수 있다.\n",
        "+ patience 의 값의 회수만큼 검증 점수가 향상되지 않으면 훈련을 중지한다\n",
        "+ restore_best_weights=True 는 가장 낮은 검증 손실을 낸 모델을 파라미터로 되돌린다\n",
        "\n"
      ]
    },
    {
      "cell_type": "code",
      "metadata": {
        "colab": {
          "base_uri": "https://localhost:8080/"
        },
        "id": "Uj_TfU-fVBUz",
        "outputId": "657d4581-f19e-4a5b-9273-8738d103cc23"
      },
      "source": [
        "model = model_fn(keras.layers.Dropout(0.3))\n",
        "model.compile(optimizer=\"adam\", loss=\"sparse_categorical_crossentropy\", metrics=\"accuracy\")\n",
        "checkpoint_cb = keras.callbacks.ModelCheckpoint(\"best-model.h5\")\n",
        "early_stopping_cb = keras.callbacks.EarlyStopping(patience=2, restore_best_weights=True)\n",
        "history = model.fit(train_scaled, train_target, epochs=15, verbose=0, \n",
        "          validation_data=(val_scaled, val_target), \n",
        "          callbacks=[checkpoint_cb]) # 훈련 후 최상의 검증 점수를 낸 모델이 저장된다(best-model.h5)."
      ],
      "execution_count": null,
      "outputs": [
        {
          "output_type": "stream",
          "text": [
            "WARNING:tensorflow:Model was constructed with shape (None, 28, 28) for input KerasTensor(type_spec=TensorSpec(shape=(None, 28, 28), dtype=tf.float32, name='flatten_input'), name='flatten_input', description=\"created by layer 'flatten_input'\"), but it was called on an input with incompatible shape (32, 784).\n",
            "WARNING:tensorflow:Model was constructed with shape (None, 28, 28) for input KerasTensor(type_spec=TensorSpec(shape=(None, 28, 28), dtype=tf.float32, name='flatten_input'), name='flatten_input', description=\"created by layer 'flatten_input'\"), but it was called on an input with incompatible shape (32, 784).\n",
            "WARNING:tensorflow:Model was constructed with shape (None, 28, 28) for input KerasTensor(type_spec=TensorSpec(shape=(None, 28, 28), dtype=tf.float32, name='flatten_input'), name='flatten_input', description=\"created by layer 'flatten_input'\"), but it was called on an input with incompatible shape (32, 784).\n"
          ],
          "name": "stdout"
        }
      ]
    },
    {
      "cell_type": "code",
      "metadata": {
        "colab": {
          "base_uri": "https://localhost:8080/"
        },
        "id": "Sloa4GA6WB0k",
        "outputId": "a11a576a-fcd7-4779-ebf2-822ee6c5e8f0"
      },
      "source": [
        "# 중단된 epoch 확인\n",
        "# print(early_stopping_cb.stopped_epoch)\n",
        "model.evaluate(val_scaled, val_target)"
      ],
      "execution_count": null,
      "outputs": [
        {
          "output_type": "stream",
          "text": [
            "375/375 [==============================] - 1s 2ms/step - loss: 0.3146 - accuracy: 0.8887\n"
          ],
          "name": "stdout"
        },
        {
          "output_type": "execute_result",
          "data": {
            "text/plain": [
              "[0.31457576155662537, 0.8886666893959045]"
            ]
          },
          "metadata": {
            "tags": []
          },
          "execution_count": 9
        }
      ]
    },
    {
      "cell_type": "code",
      "metadata": {
        "colab": {
          "base_uri": "https://localhost:8080/",
          "height": 283
        },
        "id": "gUQgGBYTWEqM",
        "outputId": "22daca66-cef7-49c6-949e-1019d31b7c94"
      },
      "source": [
        "import matplotlib.pyplot as plt\n",
        "\n",
        "plt.plot(history.history[\"loss\"])\n",
        "plt.plot(history.history[\"val_loss\"])\n",
        "plt.xlabel(\"epoch\")\n",
        "plt.ylabel(\"loss\")\n",
        "plt.legend([\"train\", \"val\"])\n",
        "plt.show()"
      ],
      "execution_count": null,
      "outputs": [
        {
          "output_type": "display_data",
          "data": {
            "image/png": "[encoded data removed]",
            "text/plain": [
              "<Figure size 432x288 with 1 Axes>"
            ]
          },
          "metadata": {
            "tags": [],
            "needs_background": "light"
          }
        }
      ]
    }
  ]
}